{
 "cells": [
  {
   "cell_type": "markdown",
   "metadata": {},
   "source": [
    "# Is there a relationship between the vote for evaluating movies (vote_average), the investment (production budget) and the rate or return ? "
   ]
  },
  {
   "cell_type": "markdown",
   "metadata": {},
   "source": [
    "With this question we would like to address three different points:\n",
    "1. Possible relationship between investment/production cost, and the movie review\n",
    "2. Possible relationship between investment/production cost and rate of return\n",
    "2. the importance of the audience support/satisfaction when it comes to profit regardless of the experts critics. We believe than in many cases the critics don't reflect the rate of return of some titles, therefore, special attention should be given to this subject."
   ]
  },
  {
   "cell_type": "markdown",
   "metadata": {
    "ExecuteTime": {
     "end_time": "2020-06-20T21:51:45.618582Z",
     "start_time": "2020-06-20T21:51:45.614947Z"
    }
   },
   "source": [
    "We will start by loading all the necessary libraries including the magic %matplotlib inline that will allow us to display plots on our notebook, followed by connecting to our SQL database"
   ]
  },
  {
   "cell_type": "code",
   "execution_count": 74,
   "metadata": {
    "ExecuteTime": {
     "end_time": "2020-06-20T23:36:47.246488Z",
     "start_time": "2020-06-20T23:36:47.242354Z"
    }
   },
   "outputs": [],
   "source": [
    "import pandas as pd\n",
    "import numpy as np\n",
    "import matplotlib.pyplot as plt\n",
    "import seaborn as sns\n",
    "%matplotlib inline"
   ]
  },
  {
   "cell_type": "code",
   "execution_count": 75,
   "metadata": {
    "ExecuteTime": {
     "end_time": "2020-06-20T23:36:47.504442Z",
     "start_time": "2020-06-20T23:36:47.500764Z"
    }
   },
   "outputs": [],
   "source": [
    "import sqlite3\n",
    "conn = sqlite3.connect('movies_db_nj.sqlite')\n",
    "cur = conn.cursor()"
   ]
  },
  {
   "cell_type": "markdown",
   "metadata": {},
   "source": [
    "From our SQL database we have taken information from two tables previously cleaned in pandas. However, because we are unfamiliar with the origin of these tables, there is the possibility that once df have been created, they will need further cleaning, although not much is expected\n",
    "\n",
    "The next code will correspond then to an SQL query that will allow us to generate a df with the data of interest. Because we are working with vote_average, and this depends mainly on the vote_count, we are asking in the query to only pass the vote_average if there have been a minimum of 1000 votes (vote_count > 1000). This way we will eliminate all of those movies that have a few votes and are ranked very high. 1000 might be a bit to tight, but this will have to bee a simple try and error exercise. "
   ]
  },
  {
   "cell_type": "code",
   "execution_count": 76,
   "metadata": {
    "ExecuteTime": {
     "end_time": "2020-06-20T23:36:47.902845Z",
     "start_time": "2020-06-20T23:36:47.872831Z"
    },
    "scrolled": false
   },
   "outputs": [
    {
     "data": {
      "text/html": [
       "<div>\n",
       "<style scoped>\n",
       "    .dataframe tbody tr th:only-of-type {\n",
       "        vertical-align: middle;\n",
       "    }\n",
       "\n",
       "    .dataframe tbody tr th {\n",
       "        vertical-align: top;\n",
       "    }\n",
       "\n",
       "    .dataframe thead th {\n",
       "        text-align: right;\n",
       "    }\n",
       "</style>\n",
       "<table border=\"1\" class=\"dataframe\">\n",
       "  <thead>\n",
       "    <tr style=\"text-align: right;\">\n",
       "      <th></th>\n",
       "      <th>original_title</th>\n",
       "      <th>popularity</th>\n",
       "      <th>release_date</th>\n",
       "      <th>vote_average</th>\n",
       "      <th>vote_count</th>\n",
       "      <th>movie_title</th>\n",
       "      <th>production_budget</th>\n",
       "      <th>worldwide_gross</th>\n",
       "      <th>domestic_gross</th>\n",
       "      <th>foreign_gross</th>\n",
       "      <th>profit</th>\n",
       "    </tr>\n",
       "  </thead>\n",
       "  <tbody>\n",
       "    <tr>\n",
       "      <td>0</td>\n",
       "      <td>Once Upon a Time in America</td>\n",
       "      <td>17.717</td>\n",
       "      <td>1984-06-01</td>\n",
       "      <td>8.4</td>\n",
       "      <td>2243</td>\n",
       "      <td>Once Upon a Time in America</td>\n",
       "      <td>30000000</td>\n",
       "      <td>5575648</td>\n",
       "      <td>5321508</td>\n",
       "      <td>254140</td>\n",
       "      <td>-24424352</td>\n",
       "    </tr>\n",
       "    <tr>\n",
       "      <td>1</td>\n",
       "      <td>Whiplash</td>\n",
       "      <td>28.784</td>\n",
       "      <td>2014-10-10</td>\n",
       "      <td>8.4</td>\n",
       "      <td>7908</td>\n",
       "      <td>Whiplash</td>\n",
       "      <td>3300000</td>\n",
       "      <td>38969037</td>\n",
       "      <td>13092006</td>\n",
       "      <td>25877031</td>\n",
       "      <td>35669037</td>\n",
       "    </tr>\n",
       "    <tr>\n",
       "      <td>2</td>\n",
       "      <td>Inception</td>\n",
       "      <td>27.920</td>\n",
       "      <td>2010-07-16</td>\n",
       "      <td>8.3</td>\n",
       "      <td>22186</td>\n",
       "      <td>Inception</td>\n",
       "      <td>160000000</td>\n",
       "      <td>835524642</td>\n",
       "      <td>292576195</td>\n",
       "      <td>542948447</td>\n",
       "      <td>675524642</td>\n",
       "    </tr>\n",
       "    <tr>\n",
       "      <td>3</td>\n",
       "      <td>Mommy</td>\n",
       "      <td>11.095</td>\n",
       "      <td>2014-08-29</td>\n",
       "      <td>8.3</td>\n",
       "      <td>1399</td>\n",
       "      <td>Mommy</td>\n",
       "      <td>4900000</td>\n",
       "      <td>17536004</td>\n",
       "      <td>3498695</td>\n",
       "      <td>14037309</td>\n",
       "      <td>12636004</td>\n",
       "    </tr>\n",
       "    <tr>\n",
       "      <td>4</td>\n",
       "      <td>Avengers: Infinity War</td>\n",
       "      <td>80.773</td>\n",
       "      <td>2018-04-27</td>\n",
       "      <td>8.3</td>\n",
       "      <td>13948</td>\n",
       "      <td>Avengers: Infinity War</td>\n",
       "      <td>300000000</td>\n",
       "      <td>2048134200</td>\n",
       "      <td>678815482</td>\n",
       "      <td>1369318718</td>\n",
       "      <td>1748134200</td>\n",
       "    </tr>\n",
       "  </tbody>\n",
       "</table>\n",
       "</div>"
      ],
      "text/plain": [
       "                original_title  popularity release_date  vote_average  \\\n",
       "0  Once Upon a Time in America      17.717   1984-06-01           8.4   \n",
       "1                     Whiplash      28.784   2014-10-10           8.4   \n",
       "2                    Inception      27.920   2010-07-16           8.3   \n",
       "3                        Mommy      11.095   2014-08-29           8.3   \n",
       "4       Avengers: Infinity War      80.773   2018-04-27           8.3   \n",
       "\n",
       "   vote_count                  movie_title  production_budget  \\\n",
       "0        2243  Once Upon a Time in America           30000000   \n",
       "1        7908                     Whiplash            3300000   \n",
       "2       22186                    Inception          160000000   \n",
       "3        1399                        Mommy            4900000   \n",
       "4       13948       Avengers: Infinity War          300000000   \n",
       "\n",
       "   worldwide_gross  domestic_gross  foreign_gross      profit  \n",
       "0          5575648         5321508         254140   -24424352  \n",
       "1         38969037        13092006       25877031    35669037  \n",
       "2        835524642       292576195      542948447   675524642  \n",
       "3         17536004         3498695       14037309    12636004  \n",
       "4       2048134200       678815482     1369318718  1748134200  "
      ]
     },
     "execution_count": 76,
     "metadata": {},
     "output_type": "execute_result"
    }
   ],
   "source": [
    "cur.execute(\"\"\"SELECT a.original_title, a.popularity, a.release_date, a.vote_average, a.vote_count, b.movie_title, b.production_budget, b.worldwide_gross, b.domestic_gross, b.foreign_gross, b.profit\n",
    "               FROM tmdb_movies a\n",
    "               JOIN tn_movies_budgets b\n",
    "               ON a.original_title = b.movie_title\n",
    "               WHERE a.vote_count > 1000\n",
    "               ORDER BY a.vote_average DESC;\"\"\")\n",
    "df = pd.DataFrame(cur.fetchall())\n",
    "df.columns = [i[0] for i in cur.description]\n",
    "df.head()"
   ]
  },
  {
   "cell_type": "markdown",
   "metadata": {},
   "source": [
    "The join (original_title & movie_title) between the two tables was use to QC the rows and further clean by dropping the duplicate columns. Now that they have been QCed we will drop the 'movie_title' column and run a .head() to look at the first 5 rows of data\n",
    "\n",
    "\n",
    "The axis=1, indicates to drop the columns labels"
   ]
  },
  {
   "cell_type": "code",
   "execution_count": 77,
   "metadata": {
    "ExecuteTime": {
     "end_time": "2020-06-20T23:36:48.220247Z",
     "start_time": "2020-06-20T23:36:48.216525Z"
    }
   },
   "outputs": [],
   "source": [
    "df = df.drop(['movie_title'], axis=1)"
   ]
  },
  {
   "cell_type": "code",
   "execution_count": 78,
   "metadata": {
    "ExecuteTime": {
     "end_time": "2020-06-20T23:36:48.399433Z",
     "start_time": "2020-06-20T23:36:48.388510Z"
    }
   },
   "outputs": [
    {
     "data": {
      "text/html": [
       "<div>\n",
       "<style scoped>\n",
       "    .dataframe tbody tr th:only-of-type {\n",
       "        vertical-align: middle;\n",
       "    }\n",
       "\n",
       "    .dataframe tbody tr th {\n",
       "        vertical-align: top;\n",
       "    }\n",
       "\n",
       "    .dataframe thead th {\n",
       "        text-align: right;\n",
       "    }\n",
       "</style>\n",
       "<table border=\"1\" class=\"dataframe\">\n",
       "  <thead>\n",
       "    <tr style=\"text-align: right;\">\n",
       "      <th></th>\n",
       "      <th>original_title</th>\n",
       "      <th>popularity</th>\n",
       "      <th>release_date</th>\n",
       "      <th>vote_average</th>\n",
       "      <th>vote_count</th>\n",
       "      <th>production_budget</th>\n",
       "      <th>worldwide_gross</th>\n",
       "      <th>domestic_gross</th>\n",
       "      <th>foreign_gross</th>\n",
       "      <th>profit</th>\n",
       "    </tr>\n",
       "  </thead>\n",
       "  <tbody>\n",
       "    <tr>\n",
       "      <td>0</td>\n",
       "      <td>Once Upon a Time in America</td>\n",
       "      <td>17.717</td>\n",
       "      <td>1984-06-01</td>\n",
       "      <td>8.4</td>\n",
       "      <td>2243</td>\n",
       "      <td>30000000</td>\n",
       "      <td>5575648</td>\n",
       "      <td>5321508</td>\n",
       "      <td>254140</td>\n",
       "      <td>-24424352</td>\n",
       "    </tr>\n",
       "    <tr>\n",
       "      <td>1</td>\n",
       "      <td>Whiplash</td>\n",
       "      <td>28.784</td>\n",
       "      <td>2014-10-10</td>\n",
       "      <td>8.4</td>\n",
       "      <td>7908</td>\n",
       "      <td>3300000</td>\n",
       "      <td>38969037</td>\n",
       "      <td>13092006</td>\n",
       "      <td>25877031</td>\n",
       "      <td>35669037</td>\n",
       "    </tr>\n",
       "    <tr>\n",
       "      <td>2</td>\n",
       "      <td>Inception</td>\n",
       "      <td>27.920</td>\n",
       "      <td>2010-07-16</td>\n",
       "      <td>8.3</td>\n",
       "      <td>22186</td>\n",
       "      <td>160000000</td>\n",
       "      <td>835524642</td>\n",
       "      <td>292576195</td>\n",
       "      <td>542948447</td>\n",
       "      <td>675524642</td>\n",
       "    </tr>\n",
       "    <tr>\n",
       "      <td>3</td>\n",
       "      <td>Mommy</td>\n",
       "      <td>11.095</td>\n",
       "      <td>2014-08-29</td>\n",
       "      <td>8.3</td>\n",
       "      <td>1399</td>\n",
       "      <td>4900000</td>\n",
       "      <td>17536004</td>\n",
       "      <td>3498695</td>\n",
       "      <td>14037309</td>\n",
       "      <td>12636004</td>\n",
       "    </tr>\n",
       "    <tr>\n",
       "      <td>4</td>\n",
       "      <td>Avengers: Infinity War</td>\n",
       "      <td>80.773</td>\n",
       "      <td>2018-04-27</td>\n",
       "      <td>8.3</td>\n",
       "      <td>13948</td>\n",
       "      <td>300000000</td>\n",
       "      <td>2048134200</td>\n",
       "      <td>678815482</td>\n",
       "      <td>1369318718</td>\n",
       "      <td>1748134200</td>\n",
       "    </tr>\n",
       "  </tbody>\n",
       "</table>\n",
       "</div>"
      ],
      "text/plain": [
       "                original_title  popularity release_date  vote_average  \\\n",
       "0  Once Upon a Time in America      17.717   1984-06-01           8.4   \n",
       "1                     Whiplash      28.784   2014-10-10           8.4   \n",
       "2                    Inception      27.920   2010-07-16           8.3   \n",
       "3                        Mommy      11.095   2014-08-29           8.3   \n",
       "4       Avengers: Infinity War      80.773   2018-04-27           8.3   \n",
       "\n",
       "   vote_count  production_budget  worldwide_gross  domestic_gross  \\\n",
       "0        2243           30000000          5575648         5321508   \n",
       "1        7908            3300000         38969037        13092006   \n",
       "2       22186          160000000        835524642       292576195   \n",
       "3        1399            4900000         17536004         3498695   \n",
       "4       13948          300000000       2048134200       678815482   \n",
       "\n",
       "   foreign_gross      profit  \n",
       "0         254140   -24424352  \n",
       "1       25877031    35669037  \n",
       "2      542948447   675524642  \n",
       "3       14037309    12636004  \n",
       "4     1369318718  1748134200  "
      ]
     },
     "execution_count": 78,
     "metadata": {},
     "output_type": "execute_result"
    }
   ],
   "source": [
    "df.head()"
   ]
  },
  {
   "cell_type": "markdown",
   "metadata": {},
   "source": [
    "The rate of return is a percentage based on the calculation of the profit multiplied by 100, then divided by the production_budget. We don't have these values in our dataframe, therefore it will be calculated and added as a new column to the existing dataframe"
   ]
  },
  {
   "cell_type": "code",
   "execution_count": 79,
   "metadata": {
    "ExecuteTime": {
     "end_time": "2020-06-20T23:36:48.744773Z",
     "start_time": "2020-06-20T23:36:48.728974Z"
    }
   },
   "outputs": [
    {
     "data": {
      "text/html": [
       "<div>\n",
       "<style scoped>\n",
       "    .dataframe tbody tr th:only-of-type {\n",
       "        vertical-align: middle;\n",
       "    }\n",
       "\n",
       "    .dataframe tbody tr th {\n",
       "        vertical-align: top;\n",
       "    }\n",
       "\n",
       "    .dataframe thead th {\n",
       "        text-align: right;\n",
       "    }\n",
       "</style>\n",
       "<table border=\"1\" class=\"dataframe\">\n",
       "  <thead>\n",
       "    <tr style=\"text-align: right;\">\n",
       "      <th></th>\n",
       "      <th>original_title</th>\n",
       "      <th>popularity</th>\n",
       "      <th>release_date</th>\n",
       "      <th>vote_average</th>\n",
       "      <th>vote_count</th>\n",
       "      <th>production_budget</th>\n",
       "      <th>worldwide_gross</th>\n",
       "      <th>domestic_gross</th>\n",
       "      <th>foreign_gross</th>\n",
       "      <th>profit</th>\n",
       "      <th>rate_of_return</th>\n",
       "    </tr>\n",
       "  </thead>\n",
       "  <tbody>\n",
       "    <tr>\n",
       "      <td>0</td>\n",
       "      <td>Once Upon a Time in America</td>\n",
       "      <td>17.717</td>\n",
       "      <td>1984-06-01</td>\n",
       "      <td>8.4</td>\n",
       "      <td>2243</td>\n",
       "      <td>30000000</td>\n",
       "      <td>5575648</td>\n",
       "      <td>5321508</td>\n",
       "      <td>254140</td>\n",
       "      <td>-24424352</td>\n",
       "      <td>-81.414507</td>\n",
       "    </tr>\n",
       "    <tr>\n",
       "      <td>1</td>\n",
       "      <td>Whiplash</td>\n",
       "      <td>28.784</td>\n",
       "      <td>2014-10-10</td>\n",
       "      <td>8.4</td>\n",
       "      <td>7908</td>\n",
       "      <td>3300000</td>\n",
       "      <td>38969037</td>\n",
       "      <td>13092006</td>\n",
       "      <td>25877031</td>\n",
       "      <td>35669037</td>\n",
       "      <td>1080.879909</td>\n",
       "    </tr>\n",
       "    <tr>\n",
       "      <td>2</td>\n",
       "      <td>Inception</td>\n",
       "      <td>27.920</td>\n",
       "      <td>2010-07-16</td>\n",
       "      <td>8.3</td>\n",
       "      <td>22186</td>\n",
       "      <td>160000000</td>\n",
       "      <td>835524642</td>\n",
       "      <td>292576195</td>\n",
       "      <td>542948447</td>\n",
       "      <td>675524642</td>\n",
       "      <td>422.202901</td>\n",
       "    </tr>\n",
       "    <tr>\n",
       "      <td>3</td>\n",
       "      <td>Mommy</td>\n",
       "      <td>11.095</td>\n",
       "      <td>2014-08-29</td>\n",
       "      <td>8.3</td>\n",
       "      <td>1399</td>\n",
       "      <td>4900000</td>\n",
       "      <td>17536004</td>\n",
       "      <td>3498695</td>\n",
       "      <td>14037309</td>\n",
       "      <td>12636004</td>\n",
       "      <td>257.877633</td>\n",
       "    </tr>\n",
       "    <tr>\n",
       "      <td>4</td>\n",
       "      <td>Avengers: Infinity War</td>\n",
       "      <td>80.773</td>\n",
       "      <td>2018-04-27</td>\n",
       "      <td>8.3</td>\n",
       "      <td>13948</td>\n",
       "      <td>300000000</td>\n",
       "      <td>2048134200</td>\n",
       "      <td>678815482</td>\n",
       "      <td>1369318718</td>\n",
       "      <td>1748134200</td>\n",
       "      <td>582.711400</td>\n",
       "    </tr>\n",
       "    <tr>\n",
       "      <td>5</td>\n",
       "      <td>Green Book</td>\n",
       "      <td>36.284</td>\n",
       "      <td>2018-11-16</td>\n",
       "      <td>8.3</td>\n",
       "      <td>3499</td>\n",
       "      <td>23000000</td>\n",
       "      <td>322034439</td>\n",
       "      <td>85080171</td>\n",
       "      <td>236954268</td>\n",
       "      <td>299034439</td>\n",
       "      <td>1300.149735</td>\n",
       "    </tr>\n",
       "    <tr>\n",
       "      <td>6</td>\n",
       "      <td>The Lion King</td>\n",
       "      <td>28.583</td>\n",
       "      <td>1994-06-23</td>\n",
       "      <td>8.2</td>\n",
       "      <td>10160</td>\n",
       "      <td>79300000</td>\n",
       "      <td>986214868</td>\n",
       "      <td>421785283</td>\n",
       "      <td>564429585</td>\n",
       "      <td>906914868</td>\n",
       "      <td>1143.650527</td>\n",
       "    </tr>\n",
       "    <tr>\n",
       "      <td>7</td>\n",
       "      <td>Interstellar</td>\n",
       "      <td>28.440</td>\n",
       "      <td>2014-11-05</td>\n",
       "      <td>8.2</td>\n",
       "      <td>18597</td>\n",
       "      <td>165000000</td>\n",
       "      <td>666379375</td>\n",
       "      <td>188017894</td>\n",
       "      <td>478361481</td>\n",
       "      <td>501379375</td>\n",
       "      <td>303.866288</td>\n",
       "    </tr>\n",
       "    <tr>\n",
       "      <td>8</td>\n",
       "      <td>Coco</td>\n",
       "      <td>25.961</td>\n",
       "      <td>2017-11-22</td>\n",
       "      <td>8.2</td>\n",
       "      <td>8669</td>\n",
       "      <td>175000000</td>\n",
       "      <td>798008101</td>\n",
       "      <td>209726015</td>\n",
       "      <td>588282086</td>\n",
       "      <td>623008101</td>\n",
       "      <td>356.004629</td>\n",
       "    </tr>\n",
       "    <tr>\n",
       "      <td>9</td>\n",
       "      <td>Wonder</td>\n",
       "      <td>20.101</td>\n",
       "      <td>2017-11-17</td>\n",
       "      <td>8.2</td>\n",
       "      <td>3959</td>\n",
       "      <td>20000000</td>\n",
       "      <td>304604712</td>\n",
       "      <td>132422809</td>\n",
       "      <td>172181903</td>\n",
       "      <td>284604712</td>\n",
       "      <td>1423.023560</td>\n",
       "    </tr>\n",
       "  </tbody>\n",
       "</table>\n",
       "</div>"
      ],
      "text/plain": [
       "                original_title  popularity release_date  vote_average  \\\n",
       "0  Once Upon a Time in America      17.717   1984-06-01           8.4   \n",
       "1                     Whiplash      28.784   2014-10-10           8.4   \n",
       "2                    Inception      27.920   2010-07-16           8.3   \n",
       "3                        Mommy      11.095   2014-08-29           8.3   \n",
       "4       Avengers: Infinity War      80.773   2018-04-27           8.3   \n",
       "5                   Green Book      36.284   2018-11-16           8.3   \n",
       "6                The Lion King      28.583   1994-06-23           8.2   \n",
       "7                 Interstellar      28.440   2014-11-05           8.2   \n",
       "8                         Coco      25.961   2017-11-22           8.2   \n",
       "9                       Wonder      20.101   2017-11-17           8.2   \n",
       "\n",
       "   vote_count  production_budget  worldwide_gross  domestic_gross  \\\n",
       "0        2243           30000000          5575648         5321508   \n",
       "1        7908            3300000         38969037        13092006   \n",
       "2       22186          160000000        835524642       292576195   \n",
       "3        1399            4900000         17536004         3498695   \n",
       "4       13948          300000000       2048134200       678815482   \n",
       "5        3499           23000000        322034439        85080171   \n",
       "6       10160           79300000        986214868       421785283   \n",
       "7       18597          165000000        666379375       188017894   \n",
       "8        8669          175000000        798008101       209726015   \n",
       "9        3959           20000000        304604712       132422809   \n",
       "\n",
       "   foreign_gross      profit  rate_of_return  \n",
       "0         254140   -24424352      -81.414507  \n",
       "1       25877031    35669037     1080.879909  \n",
       "2      542948447   675524642      422.202901  \n",
       "3       14037309    12636004      257.877633  \n",
       "4     1369318718  1748134200      582.711400  \n",
       "5      236954268   299034439     1300.149735  \n",
       "6      564429585   906914868     1143.650527  \n",
       "7      478361481   501379375      303.866288  \n",
       "8      588282086   623008101      356.004629  \n",
       "9      172181903   284604712     1423.023560  "
      ]
     },
     "execution_count": 79,
     "metadata": {},
     "output_type": "execute_result"
    }
   ],
   "source": [
    "# Rate of return calculation:\n",
    "\n",
    "df['rate_of_return'] = df['profit'] * 100 / df['production_budget']\n",
    "df.head(10)"
   ]
  },
  {
   "cell_type": "markdown",
   "metadata": {},
   "source": [
    "We will now sort the dataframe with by popularity. For this purpose we have created an empty list (vote_average_range) which will be filled up via .append()  as wee go through a for loop with a series of conditions. Basically what we want to do is create less categories for the evaluations instead of having a very broad number of them to plot. \n",
    "\n",
    "As it is described in the code below, we will create 8 groups and these will be our x-axis values for most of the plots"
   ]
  },
  {
   "cell_type": "code",
   "execution_count": 80,
   "metadata": {
    "ExecuteTime": {
     "end_time": "2020-06-20T23:36:49.090553Z",
     "start_time": "2020-06-20T23:36:49.072674Z"
    }
   },
   "outputs": [
    {
     "data": {
      "text/html": [
       "<div>\n",
       "<style scoped>\n",
       "    .dataframe tbody tr th:only-of-type {\n",
       "        vertical-align: middle;\n",
       "    }\n",
       "\n",
       "    .dataframe tbody tr th {\n",
       "        vertical-align: top;\n",
       "    }\n",
       "\n",
       "    .dataframe thead th {\n",
       "        text-align: right;\n",
       "    }\n",
       "</style>\n",
       "<table border=\"1\" class=\"dataframe\">\n",
       "  <thead>\n",
       "    <tr style=\"text-align: right;\">\n",
       "      <th></th>\n",
       "      <th>original_title</th>\n",
       "      <th>popularity</th>\n",
       "      <th>release_date</th>\n",
       "      <th>vote_average</th>\n",
       "      <th>vote_count</th>\n",
       "      <th>production_budget</th>\n",
       "      <th>worldwide_gross</th>\n",
       "      <th>domestic_gross</th>\n",
       "      <th>foreign_gross</th>\n",
       "      <th>profit</th>\n",
       "      <th>rate_of_return</th>\n",
       "      <th>Vavg_range</th>\n",
       "    </tr>\n",
       "  </thead>\n",
       "  <tbody>\n",
       "    <tr>\n",
       "      <td>0</td>\n",
       "      <td>Once Upon a Time in America</td>\n",
       "      <td>17.717</td>\n",
       "      <td>1984-06-01</td>\n",
       "      <td>8.4</td>\n",
       "      <td>2243</td>\n",
       "      <td>30000000</td>\n",
       "      <td>5575648</td>\n",
       "      <td>5321508</td>\n",
       "      <td>254140</td>\n",
       "      <td>-24424352</td>\n",
       "      <td>-81.414507</td>\n",
       "      <td>&gt;= 8.0</td>\n",
       "    </tr>\n",
       "    <tr>\n",
       "      <td>1</td>\n",
       "      <td>Whiplash</td>\n",
       "      <td>28.784</td>\n",
       "      <td>2014-10-10</td>\n",
       "      <td>8.4</td>\n",
       "      <td>7908</td>\n",
       "      <td>3300000</td>\n",
       "      <td>38969037</td>\n",
       "      <td>13092006</td>\n",
       "      <td>25877031</td>\n",
       "      <td>35669037</td>\n",
       "      <td>1080.879909</td>\n",
       "      <td>&gt;= 8.0</td>\n",
       "    </tr>\n",
       "    <tr>\n",
       "      <td>2</td>\n",
       "      <td>Inception</td>\n",
       "      <td>27.920</td>\n",
       "      <td>2010-07-16</td>\n",
       "      <td>8.3</td>\n",
       "      <td>22186</td>\n",
       "      <td>160000000</td>\n",
       "      <td>835524642</td>\n",
       "      <td>292576195</td>\n",
       "      <td>542948447</td>\n",
       "      <td>675524642</td>\n",
       "      <td>422.202901</td>\n",
       "      <td>&gt;= 8.0</td>\n",
       "    </tr>\n",
       "    <tr>\n",
       "      <td>3</td>\n",
       "      <td>Mommy</td>\n",
       "      <td>11.095</td>\n",
       "      <td>2014-08-29</td>\n",
       "      <td>8.3</td>\n",
       "      <td>1399</td>\n",
       "      <td>4900000</td>\n",
       "      <td>17536004</td>\n",
       "      <td>3498695</td>\n",
       "      <td>14037309</td>\n",
       "      <td>12636004</td>\n",
       "      <td>257.877633</td>\n",
       "      <td>&gt;= 8.0</td>\n",
       "    </tr>\n",
       "    <tr>\n",
       "      <td>4</td>\n",
       "      <td>Avengers: Infinity War</td>\n",
       "      <td>80.773</td>\n",
       "      <td>2018-04-27</td>\n",
       "      <td>8.3</td>\n",
       "      <td>13948</td>\n",
       "      <td>300000000</td>\n",
       "      <td>2048134200</td>\n",
       "      <td>678815482</td>\n",
       "      <td>1369318718</td>\n",
       "      <td>1748134200</td>\n",
       "      <td>582.711400</td>\n",
       "      <td>&gt;= 8.0</td>\n",
       "    </tr>\n",
       "    <tr>\n",
       "      <td>5</td>\n",
       "      <td>Green Book</td>\n",
       "      <td>36.284</td>\n",
       "      <td>2018-11-16</td>\n",
       "      <td>8.3</td>\n",
       "      <td>3499</td>\n",
       "      <td>23000000</td>\n",
       "      <td>322034439</td>\n",
       "      <td>85080171</td>\n",
       "      <td>236954268</td>\n",
       "      <td>299034439</td>\n",
       "      <td>1300.149735</td>\n",
       "      <td>&gt;= 8.0</td>\n",
       "    </tr>\n",
       "    <tr>\n",
       "      <td>6</td>\n",
       "      <td>The Lion King</td>\n",
       "      <td>28.583</td>\n",
       "      <td>1994-06-23</td>\n",
       "      <td>8.2</td>\n",
       "      <td>10160</td>\n",
       "      <td>79300000</td>\n",
       "      <td>986214868</td>\n",
       "      <td>421785283</td>\n",
       "      <td>564429585</td>\n",
       "      <td>906914868</td>\n",
       "      <td>1143.650527</td>\n",
       "      <td>&gt;= 8.0</td>\n",
       "    </tr>\n",
       "    <tr>\n",
       "      <td>7</td>\n",
       "      <td>Interstellar</td>\n",
       "      <td>28.440</td>\n",
       "      <td>2014-11-05</td>\n",
       "      <td>8.2</td>\n",
       "      <td>18597</td>\n",
       "      <td>165000000</td>\n",
       "      <td>666379375</td>\n",
       "      <td>188017894</td>\n",
       "      <td>478361481</td>\n",
       "      <td>501379375</td>\n",
       "      <td>303.866288</td>\n",
       "      <td>&gt;= 8.0</td>\n",
       "    </tr>\n",
       "    <tr>\n",
       "      <td>8</td>\n",
       "      <td>Coco</td>\n",
       "      <td>25.961</td>\n",
       "      <td>2017-11-22</td>\n",
       "      <td>8.2</td>\n",
       "      <td>8669</td>\n",
       "      <td>175000000</td>\n",
       "      <td>798008101</td>\n",
       "      <td>209726015</td>\n",
       "      <td>588282086</td>\n",
       "      <td>623008101</td>\n",
       "      <td>356.004629</td>\n",
       "      <td>&gt;= 8.0</td>\n",
       "    </tr>\n",
       "    <tr>\n",
       "      <td>9</td>\n",
       "      <td>Wonder</td>\n",
       "      <td>20.101</td>\n",
       "      <td>2017-11-17</td>\n",
       "      <td>8.2</td>\n",
       "      <td>3959</td>\n",
       "      <td>20000000</td>\n",
       "      <td>304604712</td>\n",
       "      <td>132422809</td>\n",
       "      <td>172181903</td>\n",
       "      <td>284604712</td>\n",
       "      <td>1423.023560</td>\n",
       "      <td>&gt;= 8.0</td>\n",
       "    </tr>\n",
       "  </tbody>\n",
       "</table>\n",
       "</div>"
      ],
      "text/plain": [
       "                original_title  popularity release_date  vote_average  \\\n",
       "0  Once Upon a Time in America      17.717   1984-06-01           8.4   \n",
       "1                     Whiplash      28.784   2014-10-10           8.4   \n",
       "2                    Inception      27.920   2010-07-16           8.3   \n",
       "3                        Mommy      11.095   2014-08-29           8.3   \n",
       "4       Avengers: Infinity War      80.773   2018-04-27           8.3   \n",
       "5                   Green Book      36.284   2018-11-16           8.3   \n",
       "6                The Lion King      28.583   1994-06-23           8.2   \n",
       "7                 Interstellar      28.440   2014-11-05           8.2   \n",
       "8                         Coco      25.961   2017-11-22           8.2   \n",
       "9                       Wonder      20.101   2017-11-17           8.2   \n",
       "\n",
       "   vote_count  production_budget  worldwide_gross  domestic_gross  \\\n",
       "0        2243           30000000          5575648         5321508   \n",
       "1        7908            3300000         38969037        13092006   \n",
       "2       22186          160000000        835524642       292576195   \n",
       "3        1399            4900000         17536004         3498695   \n",
       "4       13948          300000000       2048134200       678815482   \n",
       "5        3499           23000000        322034439        85080171   \n",
       "6       10160           79300000        986214868       421785283   \n",
       "7       18597          165000000        666379375       188017894   \n",
       "8        8669          175000000        798008101       209726015   \n",
       "9        3959           20000000        304604712       132422809   \n",
       "\n",
       "   foreign_gross      profit  rate_of_return Vavg_range  \n",
       "0         254140   -24424352      -81.414507     >= 8.0  \n",
       "1       25877031    35669037     1080.879909     >= 8.0  \n",
       "2      542948447   675524642      422.202901     >= 8.0  \n",
       "3       14037309    12636004      257.877633     >= 8.0  \n",
       "4     1369318718  1748134200      582.711400     >= 8.0  \n",
       "5      236954268   299034439     1300.149735     >= 8.0  \n",
       "6      564429585   906914868     1143.650527     >= 8.0  \n",
       "7      478361481   501379375      303.866288     >= 8.0  \n",
       "8      588282086   623008101      356.004629     >= 8.0  \n",
       "9      172181903   284604712     1423.023560     >= 8.0  "
      ]
     },
     "execution_count": 80,
     "metadata": {},
     "output_type": "execute_result"
    }
   ],
   "source": [
    "vote_average_range = []\n",
    "\n",
    "for value in df[\"vote_average\"]:\n",
    "    if value >= 8:\n",
    "        vote_average_range.append(\">= 8.0\")\n",
    "    elif value > 7.5:\n",
    "        vote_average_range.append(\"7.5 to < 8.0\")\n",
    "    elif value > 7.0:\n",
    "        vote_average_range.append(\"7.0 to < 7.5\")\n",
    "    elif value > 6.5:\n",
    "        vote_average_range.append(\"6.5 to < 7.0\")\n",
    "    elif value > 6.0:\n",
    "        vote_average_range.append(\"6.0 to < 6.5\")\n",
    "    elif value >= 5.5:\n",
    "        vote_average_range.append(\"5.5 to < 6.0\")\n",
    "    else:\n",
    "        vote_average_range.append(\"< 5.5\")\n",
    "        \n",
    "df['Vavg_range'] = vote_average_range\n",
    "df.head(10)"
   ]
  },
  {
   "cell_type": "code",
   "execution_count": 81,
   "metadata": {
    "ExecuteTime": {
     "end_time": "2020-06-20T23:36:49.371660Z",
     "start_time": "2020-06-20T23:36:49.369544Z"
    }
   },
   "outputs": [],
   "source": [
    "# alternative way\n",
    "#df['Vavg_range'] = np.nan\n",
    "#df['Vavg_range'] = np.where(df['vote_average']>=8,'>=8.0',df['Vavg_range'])\n",
    "#df['Vavg_range'] = np.where((df['vote_average']>=7.5)and(df['vote_average']<8),'7.5-8',df['Vavg_range'])\n",
    "#..."
   ]
  },
  {
   "cell_type": "code",
   "execution_count": 82,
   "metadata": {
    "ExecuteTime": {
     "end_time": "2020-06-20T23:36:49.603509Z",
     "start_time": "2020-06-20T23:36:49.595769Z"
    }
   },
   "outputs": [
    {
     "name": "stdout",
     "output_type": "stream",
     "text": [
      "<class 'pandas.core.frame.DataFrame'>\n",
      "RangeIndex: 840 entries, 0 to 839\n",
      "Data columns (total 12 columns):\n",
      "original_title       840 non-null object\n",
      "popularity           840 non-null float64\n",
      "release_date         840 non-null object\n",
      "vote_average         840 non-null float64\n",
      "vote_count           840 non-null int64\n",
      "production_budget    840 non-null int64\n",
      "worldwide_gross      840 non-null int64\n",
      "domestic_gross       840 non-null int64\n",
      "foreign_gross        840 non-null int64\n",
      "profit               840 non-null int64\n",
      "rate_of_return       840 non-null float64\n",
      "Vavg_range           840 non-null object\n",
      "dtypes: float64(3), int64(6), object(3)\n",
      "memory usage: 78.9+ KB\n"
     ]
    }
   ],
   "source": [
    "df.info()"
   ]
  },
  {
   "cell_type": "markdown",
   "metadata": {},
   "source": [
    "For some reason we had problems creating a df calling just some columns, so as alternative we decided to create three df and then we concatenated them together"
   ]
  },
  {
   "cell_type": "code",
   "execution_count": 83,
   "metadata": {
    "ExecuteTime": {
     "end_time": "2020-06-20T23:36:49.990458Z",
     "start_time": "2020-06-20T23:36:49.987702Z"
    },
    "scrolled": false
   },
   "outputs": [],
   "source": [
    "dfp1 = df['Vavg_range']\n",
    "dfp2 = df['production_budget']\n",
    "dfp3 = df['rate_of_return']"
   ]
  },
  {
   "cell_type": "code",
   "execution_count": 84,
   "metadata": {
    "ExecuteTime": {
     "end_time": "2020-06-20T23:36:50.183370Z",
     "start_time": "2020-06-20T23:36:50.179624Z"
    }
   },
   "outputs": [],
   "source": [
    "dfq = pd.concat([dfp1, dfp2, dfp3], axis=1)"
   ]
  },
  {
   "cell_type": "code",
   "execution_count": 85,
   "metadata": {
    "ExecuteTime": {
     "end_time": "2020-06-20T23:36:50.384812Z",
     "start_time": "2020-06-20T23:36:50.377671Z"
    }
   },
   "outputs": [
    {
     "data": {
      "text/html": [
       "<div>\n",
       "<style scoped>\n",
       "    .dataframe tbody tr th:only-of-type {\n",
       "        vertical-align: middle;\n",
       "    }\n",
       "\n",
       "    .dataframe tbody tr th {\n",
       "        vertical-align: top;\n",
       "    }\n",
       "\n",
       "    .dataframe thead th {\n",
       "        text-align: right;\n",
       "    }\n",
       "</style>\n",
       "<table border=\"1\" class=\"dataframe\">\n",
       "  <thead>\n",
       "    <tr style=\"text-align: right;\">\n",
       "      <th></th>\n",
       "      <th>Vavg_range</th>\n",
       "      <th>production_budget</th>\n",
       "      <th>rate_of_return</th>\n",
       "    </tr>\n",
       "  </thead>\n",
       "  <tbody>\n",
       "    <tr>\n",
       "      <td>0</td>\n",
       "      <td>&gt;= 8.0</td>\n",
       "      <td>30000000</td>\n",
       "      <td>-81.414507</td>\n",
       "    </tr>\n",
       "    <tr>\n",
       "      <td>1</td>\n",
       "      <td>&gt;= 8.0</td>\n",
       "      <td>3300000</td>\n",
       "      <td>1080.879909</td>\n",
       "    </tr>\n",
       "    <tr>\n",
       "      <td>2</td>\n",
       "      <td>&gt;= 8.0</td>\n",
       "      <td>160000000</td>\n",
       "      <td>422.202901</td>\n",
       "    </tr>\n",
       "    <tr>\n",
       "      <td>3</td>\n",
       "      <td>&gt;= 8.0</td>\n",
       "      <td>4900000</td>\n",
       "      <td>257.877633</td>\n",
       "    </tr>\n",
       "    <tr>\n",
       "      <td>4</td>\n",
       "      <td>&gt;= 8.0</td>\n",
       "      <td>300000000</td>\n",
       "      <td>582.711400</td>\n",
       "    </tr>\n",
       "  </tbody>\n",
       "</table>\n",
       "</div>"
      ],
      "text/plain": [
       "  Vavg_range  production_budget  rate_of_return\n",
       "0     >= 8.0           30000000      -81.414507\n",
       "1     >= 8.0            3300000     1080.879909\n",
       "2     >= 8.0          160000000      422.202901\n",
       "3     >= 8.0            4900000      257.877633\n",
       "4     >= 8.0          300000000      582.711400"
      ]
     },
     "execution_count": 85,
     "metadata": {},
     "output_type": "execute_result"
    }
   ],
   "source": [
    "dfq.head()"
   ]
  },
  {
   "cell_type": "markdown",
   "metadata": {},
   "source": [
    "The concatenation worked! now we will groupby the Vavg_range  and calculate the means of the rest of the columns for our ploting and analysis purposes:"
   ]
  },
  {
   "cell_type": "code",
   "execution_count": 86,
   "metadata": {
    "ExecuteTime": {
     "end_time": "2020-06-20T23:36:50.865568Z",
     "start_time": "2020-06-20T23:36:50.854982Z"
    }
   },
   "outputs": [
    {
     "data": {
      "text/html": [
       "<div>\n",
       "<style scoped>\n",
       "    .dataframe tbody tr th:only-of-type {\n",
       "        vertical-align: middle;\n",
       "    }\n",
       "\n",
       "    .dataframe tbody tr th {\n",
       "        vertical-align: top;\n",
       "    }\n",
       "\n",
       "    .dataframe thead th {\n",
       "        text-align: right;\n",
       "    }\n",
       "</style>\n",
       "<table border=\"1\" class=\"dataframe\">\n",
       "  <thead>\n",
       "    <tr style=\"text-align: right;\">\n",
       "      <th></th>\n",
       "      <th>production_budget</th>\n",
       "      <th>rate_of_return</th>\n",
       "    </tr>\n",
       "    <tr>\n",
       "      <th>Vavg_range</th>\n",
       "      <th></th>\n",
       "      <th></th>\n",
       "    </tr>\n",
       "  </thead>\n",
       "  <tbody>\n",
       "    <tr>\n",
       "      <td>5.5 to &lt; 6.0</td>\n",
       "      <td>7.216361e+07</td>\n",
       "      <td>396.245613</td>\n",
       "    </tr>\n",
       "    <tr>\n",
       "      <td>6.0 to &lt; 6.5</td>\n",
       "      <td>6.838762e+07</td>\n",
       "      <td>450.355481</td>\n",
       "    </tr>\n",
       "    <tr>\n",
       "      <td>6.5 to &lt; 7.0</td>\n",
       "      <td>6.288411e+07</td>\n",
       "      <td>560.353134</td>\n",
       "    </tr>\n",
       "    <tr>\n",
       "      <td>7.0 to &lt; 7.5</td>\n",
       "      <td>6.898301e+07</td>\n",
       "      <td>542.375868</td>\n",
       "    </tr>\n",
       "    <tr>\n",
       "      <td>7.5 to &lt; 8.0</td>\n",
       "      <td>7.485185e+07</td>\n",
       "      <td>550.182136</td>\n",
       "    </tr>\n",
       "    <tr>\n",
       "      <td>&lt; 5.5</td>\n",
       "      <td>6.398298e+07</td>\n",
       "      <td>430.587110</td>\n",
       "    </tr>\n",
       "    <tr>\n",
       "      <td>&gt;= 8.0</td>\n",
       "      <td>5.911207e+07</td>\n",
       "      <td>690.030800</td>\n",
       "    </tr>\n",
       "  </tbody>\n",
       "</table>\n",
       "</div>"
      ],
      "text/plain": [
       "              production_budget  rate_of_return\n",
       "Vavg_range                                     \n",
       "5.5 to < 6.0       7.216361e+07      396.245613\n",
       "6.0 to < 6.5       6.838762e+07      450.355481\n",
       "6.5 to < 7.0       6.288411e+07      560.353134\n",
       "7.0 to < 7.5       6.898301e+07      542.375868\n",
       "7.5 to < 8.0       7.485185e+07      550.182136\n",
       "< 5.5              6.398298e+07      430.587110\n",
       ">= 8.0             5.911207e+07      690.030800"
      ]
     },
     "execution_count": 86,
     "metadata": {},
     "output_type": "execute_result"
    }
   ],
   "source": [
    "dfq1 = dfq.groupby(['Vavg_range']).mean()\n",
    "dfq1.head(10)"
   ]
  },
  {
   "cell_type": "markdown",
   "metadata": {},
   "source": [
    "The display of our dfq1 doesn't show Vavg_range as a column, therefore we will run a reset_index, followed by a reindex to re-orgnanize the rows."
   ]
  },
  {
   "cell_type": "code",
   "execution_count": 87,
   "metadata": {
    "ExecuteTime": {
     "end_time": "2020-06-20T23:36:51.634606Z",
     "start_time": "2020-06-20T23:36:51.631094Z"
    },
    "scrolled": false
   },
   "outputs": [],
   "source": [
    "dfq1.reset_index(inplace=True)"
   ]
  },
  {
   "cell_type": "code",
   "execution_count": 88,
   "metadata": {
    "ExecuteTime": {
     "end_time": "2020-06-20T23:36:51.862718Z",
     "start_time": "2020-06-20T23:36:51.854485Z"
    }
   },
   "outputs": [
    {
     "data": {
      "text/html": [
       "<div>\n",
       "<style scoped>\n",
       "    .dataframe tbody tr th:only-of-type {\n",
       "        vertical-align: middle;\n",
       "    }\n",
       "\n",
       "    .dataframe tbody tr th {\n",
       "        vertical-align: top;\n",
       "    }\n",
       "\n",
       "    .dataframe thead th {\n",
       "        text-align: right;\n",
       "    }\n",
       "</style>\n",
       "<table border=\"1\" class=\"dataframe\">\n",
       "  <thead>\n",
       "    <tr style=\"text-align: right;\">\n",
       "      <th></th>\n",
       "      <th>Vavg_range</th>\n",
       "      <th>production_budget</th>\n",
       "      <th>rate_of_return</th>\n",
       "    </tr>\n",
       "  </thead>\n",
       "  <tbody>\n",
       "    <tr>\n",
       "      <td>0</td>\n",
       "      <td>5.5 to &lt; 6.0</td>\n",
       "      <td>7.216361e+07</td>\n",
       "      <td>396.245613</td>\n",
       "    </tr>\n",
       "    <tr>\n",
       "      <td>1</td>\n",
       "      <td>6.0 to &lt; 6.5</td>\n",
       "      <td>6.838762e+07</td>\n",
       "      <td>450.355481</td>\n",
       "    </tr>\n",
       "    <tr>\n",
       "      <td>2</td>\n",
       "      <td>6.5 to &lt; 7.0</td>\n",
       "      <td>6.288411e+07</td>\n",
       "      <td>560.353134</td>\n",
       "    </tr>\n",
       "    <tr>\n",
       "      <td>3</td>\n",
       "      <td>7.0 to &lt; 7.5</td>\n",
       "      <td>6.898301e+07</td>\n",
       "      <td>542.375868</td>\n",
       "    </tr>\n",
       "    <tr>\n",
       "      <td>4</td>\n",
       "      <td>7.5 to &lt; 8.0</td>\n",
       "      <td>7.485185e+07</td>\n",
       "      <td>550.182136</td>\n",
       "    </tr>\n",
       "    <tr>\n",
       "      <td>5</td>\n",
       "      <td>&lt; 5.5</td>\n",
       "      <td>6.398298e+07</td>\n",
       "      <td>430.587110</td>\n",
       "    </tr>\n",
       "    <tr>\n",
       "      <td>6</td>\n",
       "      <td>&gt;= 8.0</td>\n",
       "      <td>5.911207e+07</td>\n",
       "      <td>690.030800</td>\n",
       "    </tr>\n",
       "  </tbody>\n",
       "</table>\n",
       "</div>"
      ],
      "text/plain": [
       "     Vavg_range  production_budget  rate_of_return\n",
       "0  5.5 to < 6.0       7.216361e+07      396.245613\n",
       "1  6.0 to < 6.5       6.838762e+07      450.355481\n",
       "2  6.5 to < 7.0       6.288411e+07      560.353134\n",
       "3  7.0 to < 7.5       6.898301e+07      542.375868\n",
       "4  7.5 to < 8.0       7.485185e+07      550.182136\n",
       "5         < 5.5       6.398298e+07      430.587110\n",
       "6        >= 8.0       5.911207e+07      690.030800"
      ]
     },
     "execution_count": 88,
     "metadata": {},
     "output_type": "execute_result"
    }
   ],
   "source": [
    "dfq1.head(8)"
   ]
  },
  {
   "cell_type": "markdown",
   "metadata": {},
   "source": [
    "with the index function it is revealed that the index column, defined as the Vavg_range, is not properly aranged for plotting purposes. This will be solved with a reindex:"
   ]
  },
  {
   "cell_type": "code",
   "execution_count": 89,
   "metadata": {
    "ExecuteTime": {
     "end_time": "2020-06-20T23:36:52.519784Z",
     "start_time": "2020-06-20T23:36:52.510819Z"
    }
   },
   "outputs": [
    {
     "data": {
      "text/html": [
       "<div>\n",
       "<style scoped>\n",
       "    .dataframe tbody tr th:only-of-type {\n",
       "        vertical-align: middle;\n",
       "    }\n",
       "\n",
       "    .dataframe tbody tr th {\n",
       "        vertical-align: top;\n",
       "    }\n",
       "\n",
       "    .dataframe thead th {\n",
       "        text-align: right;\n",
       "    }\n",
       "</style>\n",
       "<table border=\"1\" class=\"dataframe\">\n",
       "  <thead>\n",
       "    <tr style=\"text-align: right;\">\n",
       "      <th></th>\n",
       "      <th>Vavg_range</th>\n",
       "      <th>production_budget</th>\n",
       "      <th>rate_of_return</th>\n",
       "    </tr>\n",
       "  </thead>\n",
       "  <tbody>\n",
       "    <tr>\n",
       "      <td>6</td>\n",
       "      <td>&gt;= 8.0</td>\n",
       "      <td>5.911207e+07</td>\n",
       "      <td>690.030800</td>\n",
       "    </tr>\n",
       "    <tr>\n",
       "      <td>4</td>\n",
       "      <td>7.5 to &lt; 8.0</td>\n",
       "      <td>7.485185e+07</td>\n",
       "      <td>550.182136</td>\n",
       "    </tr>\n",
       "    <tr>\n",
       "      <td>3</td>\n",
       "      <td>7.0 to &lt; 7.5</td>\n",
       "      <td>6.898301e+07</td>\n",
       "      <td>542.375868</td>\n",
       "    </tr>\n",
       "    <tr>\n",
       "      <td>2</td>\n",
       "      <td>6.5 to &lt; 7.0</td>\n",
       "      <td>6.288411e+07</td>\n",
       "      <td>560.353134</td>\n",
       "    </tr>\n",
       "    <tr>\n",
       "      <td>1</td>\n",
       "      <td>6.0 to &lt; 6.5</td>\n",
       "      <td>6.838762e+07</td>\n",
       "      <td>450.355481</td>\n",
       "    </tr>\n",
       "    <tr>\n",
       "      <td>0</td>\n",
       "      <td>5.5 to &lt; 6.0</td>\n",
       "      <td>7.216361e+07</td>\n",
       "      <td>396.245613</td>\n",
       "    </tr>\n",
       "    <tr>\n",
       "      <td>5</td>\n",
       "      <td>&lt; 5.5</td>\n",
       "      <td>6.398298e+07</td>\n",
       "      <td>430.587110</td>\n",
       "    </tr>\n",
       "  </tbody>\n",
       "</table>\n",
       "</div>"
      ],
      "text/plain": [
       "     Vavg_range  production_budget  rate_of_return\n",
       "6        >= 8.0       5.911207e+07      690.030800\n",
       "4  7.5 to < 8.0       7.485185e+07      550.182136\n",
       "3  7.0 to < 7.5       6.898301e+07      542.375868\n",
       "2  6.5 to < 7.0       6.288411e+07      560.353134\n",
       "1  6.0 to < 6.5       6.838762e+07      450.355481\n",
       "0  5.5 to < 6.0       7.216361e+07      396.245613\n",
       "5         < 5.5       6.398298e+07      430.587110"
      ]
     },
     "execution_count": 89,
     "metadata": {},
     "output_type": "execute_result"
    }
   ],
   "source": [
    "dfq1 = dfq1.reindex([6,4,3,2,1,0,5])\n",
    "dfq1.head(7)"
   ]
  },
  {
   "cell_type": "code",
   "execution_count": 90,
   "metadata": {
    "ExecuteTime": {
     "end_time": "2020-06-20T23:36:52.761977Z",
     "start_time": "2020-06-20T23:36:52.758703Z"
    }
   },
   "outputs": [
    {
     "data": {
      "text/plain": [
       "Index(['Vavg_range', 'production_budget', 'rate_of_return'], dtype='object')"
      ]
     },
     "execution_count": 90,
     "metadata": {},
     "output_type": "execute_result"
    }
   ],
   "source": [
    "dfq1.columns # Quick check to see if we have all the columns in place for our plots"
   ]
  },
  {
   "cell_type": "code",
   "execution_count": 91,
   "metadata": {
    "ExecuteTime": {
     "end_time": "2020-06-20T23:36:53.300977Z",
     "start_time": "2020-06-20T23:36:53.002807Z"
    }
   },
   "outputs": [
    {
     "data": {
      "image/png": "[encoded data removed]",
      "text/plain": [
       "<Figure size 1440x432 with 2 Axes>"
      ]
     },
     "metadata": {
      "needs_background": "light"
     },
     "output_type": "display_data"
    }
   ],
   "source": [
    "# First step is to create a subplot through matplotlib\n",
    "fig, axis = plt.subplots(nrows=1, ncols=2, figsize=(20,6))\n",
    "\n",
    "# Now we will call sns, the type of bar and the data that will fill each out\n",
    "chart1 = sns.barplot(ax = axis[0], x='Vavg_range', y='production_budget', data=dfq1, palette=\"cubehelix\")\n",
    "chart2 = sns.barplot(ax = axis[1], x='Vavg_range', y='rate_of_return', data=dfq1, palette='cubehelix')\n",
    "\n",
    "#From here onwards it is all about make up for the plots\n",
    "chart1.set_xticklabels(chart1.get_xticklabels(), rotation=40)\n",
    "chart1.set(xlabel='Vote Average Range',ylabel='Investment', title='Vote Average Range vs. Investment')\n",
    "chart1.grid(b=True, which='major', axis='y')\n",
    "\n",
    "chart2.set_xticklabels(chart2.get_xticklabels(), rotation=40)\n",
    "chart2.grid(b=True, which='major', axis='y')\n",
    "chart2.set(xlabel='Vote Average Range',ylabel='Rate of return (%)', title='Vote Average Range vs. Rate of Return')\n",
    "\n",
    "plt.show()"
   ]
  },
  {
   "cell_type": "markdown",
   "metadata": {},
   "source": [
    "These two plots are giving quite some interesting information. More detail analysis will be done in the Analysis section below, but as preliminary observations, lets name a few:\n",
    "1. No correlation between the Vote Average and the Investment. This means that it doesn't matter how much money you invest in your movie, there are no guarantees that the public will like it and therefore result in a large profit. \n",
    "2. There is a clear relationship between the vote Average and the rate of return. In general terms, the higher the Vote Average, the higher the rate of return. This was completely expected though. \n",
    "3. The highest rate or return, based on the provided data, comes from the movies with the lowest budgets. This doesn't mean the largest profit, but the highest rate of return. \n",
    "4. Some of the most expensive movies have generated the lowest profits"
   ]
  },
  {
   "cell_type": "markdown",
   "metadata": {},
   "source": [
    "With the previous two plots the questions that we wanted to address were answered, however as part of the exercise is to do more plots, we will proceed to try and combine this information on one plot by using the same Vavg_range in the x axis and overlapping the other two variables to see if there is any additional information that we missed:"
   ]
  },
  {
   "cell_type": "code",
   "execution_count": 112,
   "metadata": {
    "ExecuteTime": {
     "end_time": "2020-06-20T23:46:43.388512Z",
     "start_time": "2020-06-20T23:46:43.080778Z"
    }
   },
   "outputs": [
    {
     "data": {
      "image/png": "[encoded data removed]",
      "text/plain": [
       "<Figure size 1440x432 with 2 Axes>"
      ]
     },
     "metadata": {},
     "output_type": "display_data"
    }
   ],
   "source": [
    "sns.set(style='white', rc={\"lines.linewidth\":1})\n",
    "fig, ax1 = plt.subplots(figsize=(20,6))\n",
    "ax2 = ax1.twinx()\n",
    "\n",
    "sns.barplot(x='Vavg_range', y='production_budget', data=dfq1, color='lightblue', ax=ax1)\n",
    "sns.barplot(x='Vavg_range', y='rate_of_return', data=dfq1, color='orange', ax=ax2)\n",
    "plt.title('Average Reviews vs. Production Cost vs. Rate of Return')\n",
    "ax1.legend(['Investment', 'Rate of return (%)'], facecolor='w')\n",
    "\n",
    "plt.show()\n",
    "sns.set()"
   ]
  },
  {
   "cell_type": "markdown",
   "metadata": {
    "ExecuteTime": {
     "end_time": "2020-06-19T19:59:49.151178Z",
     "start_time": "2020-06-19T19:59:49.142633Z"
    }
   },
   "source": [
    "The plot is not adding any value as there is no correlation between the production_budget and movie evaluation (Vavg_range). Looking at the orange bars the almost linear trend tied to the increase in the Vavg_range is very clear, but nothing new is really added.\n",
    "\n",
    "Since we found that the lowest rate of return comes with the highest investment/production budget, lets do a simple horizontal bar plot to see if this becomes clearer. "
   ]
  },
  {
   "cell_type": "code",
   "execution_count": 118,
   "metadata": {
    "ExecuteTime": {
     "end_time": "2020-06-20T23:54:34.925056Z",
     "start_time": "2020-06-20T23:54:34.673890Z"
    }
   },
   "outputs": [
    {
     "data": {
      "text/plain": [
       "<function matplotlib.pyplot.show(*args, **kw)>"
      ]
     },
     "execution_count": 118,
     "metadata": {},
     "output_type": "execute_result"
    },
    {
     "data": {
      "image/png": "[encoded data removed]",
      "text/plain": [
       "<Figure size 720x432 with 1 Axes>"
      ]
     },
     "metadata": {},
     "output_type": "display_data"
    }
   ],
   "source": [
    "fig, ax = plt.subplots(figsize=(10,6))\n",
    "sns.barplot(y='production_budget', x='rate_of_return', data=dfq1, orient='h', palette='cubehelix')\n",
    "plt.xticks(rotation=50)\n",
    "\n",
    "plt.title('production budget vs. Rate of Return')\n",
    "plt.xlabel('Rate of Return (%)')\n",
    "plt.ylabel('Investment')\n",
    "plt.show"
   ]
  },
  {
   "cell_type": "markdown",
   "metadata": {},
   "source": [
    "This plot is corroborating that there is no real correlation betweeen the money invested and the rate of return. It is better to use as a guide the ratings. Nevertheless there is a bad indicator that the most expensive movies  are giving the lowest rate of return in average"
   ]
  },
  {
   "cell_type": "markdown",
   "metadata": {},
   "source": [
    "ANALYSIS\n",
    "\n",
    "When it comes to investing money, we all want to reduce the risk to a minimum and get the highest rate of return possible with the least amount of money. Therefore, you want to de-risk your project by looking at every possible variable to try to understand how they impact your outcome, if you can control them, and if by doing so, can there be an upside to the project? \n",
    "\n",
    "With this in mind we decided to look and possible relationships that could affect your rate of return. We took into account only those movies with more than 1000 reviews, hence the overall positive outcome. \n",
    "\n",
    "In the these two plots we explore three variables: 'Investment', 'Rate of Return' and the 'Vote Average Range'.\n",
    "\n",
    "The first plot (left) shows quickly how there is no real correlation between the investment and the 'vote average'. However it does suggest that the movies with the best vote average score are the ones with the lowest investments, which is interesting when we look at the second plot, we see that those are also the movies with the highest rate of return. So this is some food for thought when it comes to deciding on budgets, as it suggests that a big budget movies doesn't guarantee high rate of return. Examples of that can be easily name without even looking at the data provided by Microsoft, although confirmed with their data.\n",
    "\n",
    "The second plot (right) shows a more linear trend which is expected, as the movies with the highest 'Vote Average' are expected to have the highest 'Rate of Return', why? because the high 'Vote Average' suggest that more people are happy with the movie, resulting in more people paying to see it.\n",
    "\n"
   ]
  }
 ],
 "metadata": {
  "kernelspec": {
   "display_name": "learn-env",
   "language": "python",
   "name": "learn-env"
  },
  "language_info": {
   "codemirror_mode": {
    "name": "ipython",
    "version": 3
   },
   "file_extension": ".py",
   "mimetype": "text/x-python",
   "name": "python",
   "nbconvert_exporter": "python",
   "pygments_lexer": "ipython3",
   "version": "3.6.9"
  },
  "toc": {
   "base_numbering": 1,
   "nav_menu": {},
   "number_sections": true,
   "sideBar": true,
   "skip_h1_title": false,
   "title_cell": "Table of Contents",
   "title_sidebar": "Contents",
   "toc_cell": false,
   "toc_position": {},
   "toc_section_display": true,
   "toc_window_display": false
  },
  "varInspector": {
   "cols": {
    "lenName": 16,
    "lenType": 16,
    "lenVar": 40
   },
   "kernels_config": {
    "python": {
     "delete_cmd_postfix": "",
     "delete_cmd_prefix": "del ",
     "library": "var_list.py",
     "varRefreshCmd": "print(var_dic_list())"
    },
    "r": {
     "delete_cmd_postfix": ") ",
     "delete_cmd_prefix": "rm(",
     "library": "var_list.r",
     "varRefreshCmd": "cat(var_dic_list()) "
    }
   },
   "types_to_exclude": [
    "module",
    "function",
    "builtin_function_or_method",
    "instance",
    "_Feature"
   ],
   "window_display": false
  }
 },
 "nbformat": 4,
 "nbformat_minor": 4
}
