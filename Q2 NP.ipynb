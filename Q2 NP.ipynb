{
 "cells": [
  {
   "cell_type": "code",
   "execution_count": 193,
   "metadata": {
    "ExecuteTime": {
     "end_time": "2020-06-21T09:24:53.323144Z",
     "start_time": "2020-06-21T09:24:53.190215Z"
    }
   },
   "outputs": [],
   "source": [
    "import pandas as pd\n",
    "import numpy as np\n",
    "import sqlite3\n",
    "import matplotlib.pyplot as plt\n",
    "%matplotlib inline"
   ]
  },
  {
   "cell_type": "code",
   "execution_count": 194,
   "metadata": {
    "ExecuteTime": {
     "end_time": "2020-06-21T09:24:54.890241Z",
     "start_time": "2020-06-21T09:24:54.808288Z"
    }
   },
   "outputs": [],
   "source": [
    "conn = sqlite3.connect(\"./database/movies_db_nj.sqlite\")\n",
    "cur = conn.cursor()"
   ]
  },
  {
   "cell_type": "code",
   "execution_count": 195,
   "metadata": {
    "ExecuteTime": {
     "end_time": "2020-06-21T09:24:55.584842Z",
     "start_time": "2020-06-21T09:24:55.547864Z"
    }
   },
   "outputs": [
    {
     "data": {
      "text/plain": [
       "[('imdb_title_crew',),\n",
       " ('imdb_title_principals',),\n",
       " ('imdb_name_basics',),\n",
       " ('imdb_title_ratings',),\n",
       " ('bom_movie_gross',),\n",
       " ('imdb_title_basics',),\n",
       " ('rt_reviews',),\n",
       " ('imdb_title_akas',),\n",
       " ('tn_movies_budgets',),\n",
       " ('tmdb_movies',),\n",
       " ('rt_movies_info',)]"
      ]
     },
     "execution_count": 195,
     "metadata": {},
     "output_type": "execute_result"
    }
   ],
   "source": [
    "conn.execute(\"select name from sqlite_master where type='table';\").fetchall()"
   ]
  },
  {
   "cell_type": "code",
   "execution_count": 4,
   "metadata": {
    "ExecuteTime": {
     "end_time": "2020-06-20T08:46:23.994798Z",
     "start_time": "2020-06-20T08:46:23.991800Z"
    },
    "collapsed": true
   },
   "outputs": [],
   "source": []
  },
  {
   "cell_type": "markdown",
   "metadata": {},
   "source": [
    "These are a series of SQL commands that get tables I need to explore that data and then join using panda using the merge() method."
   ]
  },
  {
   "cell_type": "code",
   "execution_count": 196,
   "metadata": {
    "ExecuteTime": {
     "end_time": "2020-06-21T09:24:58.229327Z",
     "start_time": "2020-06-21T09:24:57.876531Z"
    }
   },
   "outputs": [],
   "source": [
    "# Joining and retrieving tmdb_movies and tn_movies_bugets tables\n",
    "tm_df = pd.DataFrame(cur.execute('''SELECT *\n",
    "                                 FROM tmdb_movies tm\n",
    "                                 JOIN tn_movies_budgets tb\n",
    "                                 ON tb.movie_title = title;'''))\n",
    "tm_df.columns = [x[0] for x in cur.description]"
   ]
  },
  {
   "cell_type": "code",
   "execution_count": 199,
   "metadata": {
    "ExecuteTime": {
     "end_time": "2020-06-21T09:26:39.618219Z",
     "start_time": "2020-06-21T09:26:39.582239Z"
    }
   },
   "outputs": [
    {
     "data": {
      "text/html": [
       "<div>\n",
       "<style scoped>\n",
       "    .dataframe tbody tr th:only-of-type {\n",
       "        vertical-align: middle;\n",
       "    }\n",
       "\n",
       "    .dataframe tbody tr th {\n",
       "        vertical-align: top;\n",
       "    }\n",
       "\n",
       "    .dataframe thead th {\n",
       "        text-align: right;\n",
       "    }\n",
       "</style>\n",
       "<table border=\"1\" class=\"dataframe\">\n",
       "  <thead>\n",
       "    <tr style=\"text-align: right;\">\n",
       "      <th></th>\n",
       "      <th>genre_ids</th>\n",
       "      <th>id</th>\n",
       "      <th>original_language</th>\n",
       "      <th>original_title</th>\n",
       "      <th>popularity</th>\n",
       "      <th>release_date</th>\n",
       "      <th>title</th>\n",
       "      <th>vote_average</th>\n",
       "      <th>vote_count</th>\n",
       "      <th>release_date</th>\n",
       "      <th>movie_title</th>\n",
       "      <th>production_budget</th>\n",
       "      <th>domestic_gross</th>\n",
       "      <th>worldwide_gross</th>\n",
       "      <th>foreign_gross</th>\n",
       "      <th>profit</th>\n",
       "    </tr>\n",
       "  </thead>\n",
       "  <tbody>\n",
       "    <tr>\n",
       "      <td>0</td>\n",
       "      <td>[14, 12, 16, 10751]</td>\n",
       "      <td>10191</td>\n",
       "      <td>en</td>\n",
       "      <td>How to Train Your Dragon</td>\n",
       "      <td>28.734</td>\n",
       "      <td>2010-03-26</td>\n",
       "      <td>How to Train Your Dragon</td>\n",
       "      <td>7.7</td>\n",
       "      <td>7610</td>\n",
       "      <td>2010-03-26</td>\n",
       "      <td>How to Train Your Dragon</td>\n",
       "      <td>165000000</td>\n",
       "      <td>217581232</td>\n",
       "      <td>494870992</td>\n",
       "      <td>277289760</td>\n",
       "      <td>329870992</td>\n",
       "    </tr>\n",
       "  </tbody>\n",
       "</table>\n",
       "</div>"
      ],
      "text/plain": [
       "             genre_ids     id original_language            original_title  \\\n",
       "0  [14, 12, 16, 10751]  10191                en  How to Train Your Dragon   \n",
       "\n",
       "   popularity release_date                     title  vote_average  \\\n",
       "0      28.734   2010-03-26  How to Train Your Dragon           7.7   \n",
       "\n",
       "   vote_count release_date               movie_title  production_budget  \\\n",
       "0        7610   2010-03-26  How to Train Your Dragon          165000000   \n",
       "\n",
       "   domestic_gross  worldwide_gross  foreign_gross     profit  \n",
       "0       217581232        494870992      277289760  329870992  "
      ]
     },
     "execution_count": 199,
     "metadata": {},
     "output_type": "execute_result"
    }
   ],
   "source": [
    "tm_df.head(1)"
   ]
  },
  {
   "cell_type": "code",
   "execution_count": 200,
   "metadata": {
    "ExecuteTime": {
     "end_time": "2020-06-21T09:27:38.712349Z",
     "start_time": "2020-06-21T09:27:37.184225Z"
    }
   },
   "outputs": [],
   "source": [
    "# retrieving imdb_title_basics table\n",
    "tb_df = pd.DataFrame(cur.execute('''SELECT *\n",
    "                                 FROM imdb_title_basics;'''))\n",
    "tb_df.columns = [x[0] for x in cur.description]"
   ]
  },
  {
   "cell_type": "code",
   "execution_count": 201,
   "metadata": {
    "ExecuteTime": {
     "end_time": "2020-06-21T09:27:40.317429Z",
     "start_time": "2020-06-21T09:27:40.266460Z"
    }
   },
   "outputs": [
    {
     "data": {
      "text/html": [
       "<div>\n",
       "<style scoped>\n",
       "    .dataframe tbody tr th:only-of-type {\n",
       "        vertical-align: middle;\n",
       "    }\n",
       "\n",
       "    .dataframe tbody tr th {\n",
       "        vertical-align: top;\n",
       "    }\n",
       "\n",
       "    .dataframe thead th {\n",
       "        text-align: right;\n",
       "    }\n",
       "</style>\n",
       "<table border=\"1\" class=\"dataframe\">\n",
       "  <thead>\n",
       "    <tr style=\"text-align: right;\">\n",
       "      <th></th>\n",
       "      <th>tconst</th>\n",
       "      <th>primary_title</th>\n",
       "      <th>original_title</th>\n",
       "      <th>start_year</th>\n",
       "      <th>runtime_minutes</th>\n",
       "      <th>genres</th>\n",
       "    </tr>\n",
       "  </thead>\n",
       "  <tbody>\n",
       "    <tr>\n",
       "      <td>0</td>\n",
       "      <td>tt0063540</td>\n",
       "      <td>Sunghursh</td>\n",
       "      <td>Sunghursh</td>\n",
       "      <td>2013</td>\n",
       "      <td>175.0</td>\n",
       "      <td>Action,Crime,Drama</td>\n",
       "    </tr>\n",
       "  </tbody>\n",
       "</table>\n",
       "</div>"
      ],
      "text/plain": [
       "      tconst primary_title original_title  start_year  runtime_minutes  \\\n",
       "0  tt0063540     Sunghursh      Sunghursh        2013            175.0   \n",
       "\n",
       "               genres  \n",
       "0  Action,Crime,Drama  "
      ]
     },
     "execution_count": 201,
     "metadata": {},
     "output_type": "execute_result"
    }
   ],
   "source": [
    "tb_df.head(1)"
   ]
  },
  {
   "cell_type": "code",
   "execution_count": 202,
   "metadata": {
    "ExecuteTime": {
     "end_time": "2020-06-21T09:28:08.644194Z",
     "start_time": "2020-06-21T09:28:08.213442Z"
    }
   },
   "outputs": [],
   "source": [
    "# retrieving imdb_title_ratings table\n",
    "tr_df = pd.DataFrame(cur.execute('''SELECT *\n",
    "                                 FROM imdb_title_ratings;'''))\n",
    "tr_df.columns = [x[0] for x in cur.description]"
   ]
  },
  {
   "cell_type": "code",
   "execution_count": 203,
   "metadata": {
    "ExecuteTime": {
     "end_time": "2020-06-21T09:28:13.674313Z",
     "start_time": "2020-06-21T09:28:13.653323Z"
    }
   },
   "outputs": [
    {
     "data": {
      "text/html": [
       "<div>\n",
       "<style scoped>\n",
       "    .dataframe tbody tr th:only-of-type {\n",
       "        vertical-align: middle;\n",
       "    }\n",
       "\n",
       "    .dataframe tbody tr th {\n",
       "        vertical-align: top;\n",
       "    }\n",
       "\n",
       "    .dataframe thead th {\n",
       "        text-align: right;\n",
       "    }\n",
       "</style>\n",
       "<table border=\"1\" class=\"dataframe\">\n",
       "  <thead>\n",
       "    <tr style=\"text-align: right;\">\n",
       "      <th></th>\n",
       "      <th>tconst</th>\n",
       "      <th>averagerating</th>\n",
       "      <th>numvotes</th>\n",
       "    </tr>\n",
       "  </thead>\n",
       "  <tbody>\n",
       "    <tr>\n",
       "      <td>0</td>\n",
       "      <td>tt10356526</td>\n",
       "      <td>8.3</td>\n",
       "      <td>31</td>\n",
       "    </tr>\n",
       "  </tbody>\n",
       "</table>\n",
       "</div>"
      ],
      "text/plain": [
       "       tconst  averagerating  numvotes\n",
       "0  tt10356526            8.3        31"
      ]
     },
     "execution_count": 203,
     "metadata": {},
     "output_type": "execute_result"
    }
   ],
   "source": [
    "tr_df.head(1)"
   ]
  },
  {
   "cell_type": "code",
   "execution_count": 204,
   "metadata": {
    "ExecuteTime": {
     "end_time": "2020-06-21T09:28:43.261354Z",
     "start_time": "2020-06-21T09:28:32.409574Z"
    }
   },
   "outputs": [],
   "source": [
    "# retrieving imdb_title_principals\n",
    "tp_df = pd.DataFrame(cur.execute('''SELECT *\n",
    "                                 FROM imdb_title_principals;'''))\n",
    "tp_df.columns = [x[0] for x in cur.description]"
   ]
  },
  {
   "cell_type": "code",
   "execution_count": 205,
   "metadata": {
    "ExecuteTime": {
     "end_time": "2020-06-21T09:28:43.322321Z",
     "start_time": "2020-06-21T09:28:43.271349Z"
    }
   },
   "outputs": [
    {
     "data": {
      "text/html": [
       "<div>\n",
       "<style scoped>\n",
       "    .dataframe tbody tr th:only-of-type {\n",
       "        vertical-align: middle;\n",
       "    }\n",
       "\n",
       "    .dataframe tbody tr th {\n",
       "        vertical-align: top;\n",
       "    }\n",
       "\n",
       "    .dataframe thead th {\n",
       "        text-align: right;\n",
       "    }\n",
       "</style>\n",
       "<table border=\"1\" class=\"dataframe\">\n",
       "  <thead>\n",
       "    <tr style=\"text-align: right;\">\n",
       "      <th></th>\n",
       "      <th>tconst</th>\n",
       "      <th>ordering</th>\n",
       "      <th>nconst</th>\n",
       "      <th>category</th>\n",
       "    </tr>\n",
       "  </thead>\n",
       "  <tbody>\n",
       "    <tr>\n",
       "      <td>0</td>\n",
       "      <td>tt0111414</td>\n",
       "      <td>1</td>\n",
       "      <td>nm0246005</td>\n",
       "      <td>actor</td>\n",
       "    </tr>\n",
       "  </tbody>\n",
       "</table>\n",
       "</div>"
      ],
      "text/plain": [
       "      tconst  ordering     nconst category\n",
       "0  tt0111414         1  nm0246005    actor"
      ]
     },
     "execution_count": 205,
     "metadata": {},
     "output_type": "execute_result"
    }
   ],
   "source": [
    "tp_df.head(1)"
   ]
  },
  {
   "cell_type": "code",
   "execution_count": 206,
   "metadata": {
    "ExecuteTime": {
     "end_time": "2020-06-21T09:32:01.801566Z",
     "start_time": "2020-06-21T09:32:01.099969Z"
    }
   },
   "outputs": [],
   "source": [
    "# retrieving imdb_title_crew\n",
    "tc_df = pd.DataFrame(cur.execute('''SELECT *\n",
    "                                 FROM imdb_title_crew;'''))\n",
    "tc_df.columns = [x[0] for x in cur.description]"
   ]
  },
  {
   "cell_type": "code",
   "execution_count": 207,
   "metadata": {
    "ExecuteTime": {
     "end_time": "2020-06-21T09:32:06.571833Z",
     "start_time": "2020-06-21T09:32:06.554842Z"
    }
   },
   "outputs": [
    {
     "data": {
      "text/html": [
       "<div>\n",
       "<style scoped>\n",
       "    .dataframe tbody tr th:only-of-type {\n",
       "        vertical-align: middle;\n",
       "    }\n",
       "\n",
       "    .dataframe tbody tr th {\n",
       "        vertical-align: top;\n",
       "    }\n",
       "\n",
       "    .dataframe thead th {\n",
       "        text-align: right;\n",
       "    }\n",
       "</style>\n",
       "<table border=\"1\" class=\"dataframe\">\n",
       "  <thead>\n",
       "    <tr style=\"text-align: right;\">\n",
       "      <th></th>\n",
       "      <th>tconst</th>\n",
       "      <th>directors</th>\n",
       "      <th>writers</th>\n",
       "    </tr>\n",
       "  </thead>\n",
       "  <tbody>\n",
       "    <tr>\n",
       "      <td>0</td>\n",
       "      <td>tt0285252</td>\n",
       "      <td>nm0899854</td>\n",
       "      <td>nm0899854</td>\n",
       "    </tr>\n",
       "  </tbody>\n",
       "</table>\n",
       "</div>"
      ],
      "text/plain": [
       "      tconst  directors    writers\n",
       "0  tt0285252  nm0899854  nm0899854"
      ]
     },
     "execution_count": 207,
     "metadata": {},
     "output_type": "execute_result"
    }
   ],
   "source": [
    "tc_df.head(1)"
   ]
  },
  {
   "cell_type": "code",
   "execution_count": 208,
   "metadata": {
    "ExecuteTime": {
     "end_time": "2020-06-21T09:34:03.598761Z",
     "start_time": "2020-06-21T09:33:58.139890Z"
    }
   },
   "outputs": [],
   "source": [
    "# retrieving imdb_title_name_basics\n",
    "nb_df = pd.DataFrame(cur.execute('''SELECT *\n",
    "                                 FROM imdb_name_basics;'''))\n",
    "nb_df.columns = [x[0] for x in cur.description]"
   ]
  },
  {
   "cell_type": "code",
   "execution_count": 209,
   "metadata": {
    "ExecuteTime": {
     "end_time": "2020-06-21T09:34:03.639741Z",
     "start_time": "2020-06-21T09:34:03.604758Z"
    }
   },
   "outputs": [
    {
     "data": {
      "text/html": [
       "<div>\n",
       "<style scoped>\n",
       "    .dataframe tbody tr th:only-of-type {\n",
       "        vertical-align: middle;\n",
       "    }\n",
       "\n",
       "    .dataframe tbody tr th {\n",
       "        vertical-align: top;\n",
       "    }\n",
       "\n",
       "    .dataframe thead th {\n",
       "        text-align: right;\n",
       "    }\n",
       "</style>\n",
       "<table border=\"1\" class=\"dataframe\">\n",
       "  <thead>\n",
       "    <tr style=\"text-align: right;\">\n",
       "      <th></th>\n",
       "      <th>nconst</th>\n",
       "      <th>primary_name</th>\n",
       "      <th>primary_profession</th>\n",
       "      <th>known_for_titles</th>\n",
       "    </tr>\n",
       "  </thead>\n",
       "  <tbody>\n",
       "    <tr>\n",
       "      <td>0</td>\n",
       "      <td>nm0061671</td>\n",
       "      <td>Mary Ellen Bauder</td>\n",
       "      <td>miscellaneous,production_manager,producer</td>\n",
       "      <td>tt0837562,tt2398241,tt0844471,tt0118553</td>\n",
       "    </tr>\n",
       "  </tbody>\n",
       "</table>\n",
       "</div>"
      ],
      "text/plain": [
       "      nconst       primary_name                         primary_profession  \\\n",
       "0  nm0061671  Mary Ellen Bauder  miscellaneous,production_manager,producer   \n",
       "\n",
       "                          known_for_titles  \n",
       "0  tt0837562,tt2398241,tt0844471,tt0118553  "
      ]
     },
     "execution_count": 209,
     "metadata": {},
     "output_type": "execute_result"
    }
   ],
   "source": [
    "nb_df.head(1)"
   ]
  },
  {
   "cell_type": "code",
   "execution_count": 218,
   "metadata": {
    "ExecuteTime": {
     "end_time": "2020-06-21T09:50:49.000543Z",
     "start_time": "2020-06-21T09:50:45.647461Z"
    }
   },
   "outputs": [],
   "source": [
    "# retrieving imdb_title_akas\n",
    "t_akas_df = pd.DataFrame(cur.execute('''SELECT *\n",
    "                                 FROM imdb_title_akas;'''))\n",
    "t_akas_df.columns = [x[0] for x in cur.description]"
   ]
  },
  {
   "cell_type": "code",
   "execution_count": 219,
   "metadata": {
    "ExecuteTime": {
     "end_time": "2020-06-21T09:50:53.144165Z",
     "start_time": "2020-06-21T09:50:53.123176Z"
    },
    "scrolled": true
   },
   "outputs": [
    {
     "data": {
      "text/html": [
       "<div>\n",
       "<style scoped>\n",
       "    .dataframe tbody tr th:only-of-type {\n",
       "        vertical-align: middle;\n",
       "    }\n",
       "\n",
       "    .dataframe tbody tr th {\n",
       "        vertical-align: top;\n",
       "    }\n",
       "\n",
       "    .dataframe thead th {\n",
       "        text-align: right;\n",
       "    }\n",
       "</style>\n",
       "<table border=\"1\" class=\"dataframe\">\n",
       "  <thead>\n",
       "    <tr style=\"text-align: right;\">\n",
       "      <th></th>\n",
       "      <th>title_id</th>\n",
       "      <th>ordering</th>\n",
       "      <th>title</th>\n",
       "      <th>region</th>\n",
       "      <th>is_original_title</th>\n",
       "    </tr>\n",
       "  </thead>\n",
       "  <tbody>\n",
       "    <tr>\n",
       "      <td>0</td>\n",
       "      <td>tt0369610</td>\n",
       "      <td>10</td>\n",
       "      <td>Джурасик свят</td>\n",
       "      <td>BG</td>\n",
       "      <td>0.0</td>\n",
       "    </tr>\n",
       "  </tbody>\n",
       "</table>\n",
       "</div>"
      ],
      "text/plain": [
       "    title_id  ordering          title region  is_original_title\n",
       "0  tt0369610        10  Джурасик свят     BG                0.0"
      ]
     },
     "execution_count": 219,
     "metadata": {},
     "output_type": "execute_result"
    }
   ],
   "source": [
    "t_akas_df.head(1)"
   ]
  },
  {
   "cell_type": "markdown",
   "metadata": {},
   "source": [
    "-"
   ]
  },
  {
   "cell_type": "markdown",
   "metadata": {
    "ExecuteTime": {
     "end_time": "2020-06-21T09:54:09.223788Z",
     "start_time": "2020-06-21T09:54:09.159823Z"
    }
   },
   "source": [
    "Merging the dataframes using pandas .merge() method on common columns"
   ]
  },
  {
   "cell_type": "code",
   "execution_count": 222,
   "metadata": {
    "ExecuteTime": {
     "end_time": "2020-06-21T09:54:49.203871Z",
     "start_time": "2020-06-21T09:54:49.014981Z"
    }
   },
   "outputs": [],
   "source": [
    "tb_tm_df = pd.merge(tb_df,tm_df, on='original_title')"
   ]
  },
  {
   "cell_type": "code",
   "execution_count": 223,
   "metadata": {
    "ExecuteTime": {
     "end_time": "2020-06-21T09:54:54.609774Z",
     "start_time": "2020-06-21T09:54:54.524823Z"
    }
   },
   "outputs": [
    {
     "data": {
      "text/html": [
       "<div>\n",
       "<style scoped>\n",
       "    .dataframe tbody tr th:only-of-type {\n",
       "        vertical-align: middle;\n",
       "    }\n",
       "\n",
       "    .dataframe tbody tr th {\n",
       "        vertical-align: top;\n",
       "    }\n",
       "\n",
       "    .dataframe thead th {\n",
       "        text-align: right;\n",
       "    }\n",
       "</style>\n",
       "<table border=\"1\" class=\"dataframe\">\n",
       "  <thead>\n",
       "    <tr style=\"text-align: right;\">\n",
       "      <th></th>\n",
       "      <th>tconst</th>\n",
       "      <th>primary_title</th>\n",
       "      <th>original_title</th>\n",
       "      <th>start_year</th>\n",
       "      <th>runtime_minutes</th>\n",
       "      <th>genres</th>\n",
       "      <th>genre_ids</th>\n",
       "      <th>id</th>\n",
       "      <th>original_language</th>\n",
       "      <th>popularity</th>\n",
       "      <th>...</th>\n",
       "      <th>title</th>\n",
       "      <th>vote_average</th>\n",
       "      <th>vote_count</th>\n",
       "      <th>release_date</th>\n",
       "      <th>movie_title</th>\n",
       "      <th>production_budget</th>\n",
       "      <th>domestic_gross</th>\n",
       "      <th>worldwide_gross</th>\n",
       "      <th>foreign_gross</th>\n",
       "      <th>profit</th>\n",
       "    </tr>\n",
       "  </thead>\n",
       "  <tbody>\n",
       "    <tr>\n",
       "      <td>3620</td>\n",
       "      <td>tt8043306</td>\n",
       "      <td>Teefa in Trouble</td>\n",
       "      <td>Teefa in Trouble</td>\n",
       "      <td>2018</td>\n",
       "      <td>155.0</td>\n",
       "      <td>Action,Comedy,Crime</td>\n",
       "      <td>[18, 35, 28, 80]</td>\n",
       "      <td>506971</td>\n",
       "      <td>ur</td>\n",
       "      <td>4.486</td>\n",
       "      <td>...</td>\n",
       "      <td>Teefa in Trouble</td>\n",
       "      <td>7.6</td>\n",
       "      <td>11</td>\n",
       "      <td>2018-07-20</td>\n",
       "      <td>Teefa in Trouble</td>\n",
       "      <td>1500000</td>\n",
       "      <td>46257465</td>\n",
       "      <td>98806</td>\n",
       "      <td>-46158659</td>\n",
       "      <td>-1401194</td>\n",
       "    </tr>\n",
       "    <tr>\n",
       "      <td>3621</td>\n",
       "      <td>tt8083476</td>\n",
       "      <td>Chloe</td>\n",
       "      <td>Chloe</td>\n",
       "      <td>2017</td>\n",
       "      <td>6.0</td>\n",
       "      <td>Documentary,Family</td>\n",
       "      <td>[18, 53, 9648]</td>\n",
       "      <td>28211</td>\n",
       "      <td>en</td>\n",
       "      <td>8.807</td>\n",
       "      <td>...</td>\n",
       "      <td>Chloe</td>\n",
       "      <td>5.9</td>\n",
       "      <td>940</td>\n",
       "      <td>2010-03-26</td>\n",
       "      <td>Chloe</td>\n",
       "      <td>13000000</td>\n",
       "      <td>3075255</td>\n",
       "      <td>11831131</td>\n",
       "      <td>8755876</td>\n",
       "      <td>-1168869</td>\n",
       "    </tr>\n",
       "    <tr>\n",
       "      <td>3622</td>\n",
       "      <td>tt8632862</td>\n",
       "      <td>Fahrenheit 11/9</td>\n",
       "      <td>Fahrenheit 11/9</td>\n",
       "      <td>2018</td>\n",
       "      <td>128.0</td>\n",
       "      <td>Documentary</td>\n",
       "      <td>[99]</td>\n",
       "      <td>532908</td>\n",
       "      <td>en</td>\n",
       "      <td>10.003</td>\n",
       "      <td>...</td>\n",
       "      <td>Fahrenheit 11/9</td>\n",
       "      <td>7.1</td>\n",
       "      <td>142</td>\n",
       "      <td>2018-09-21</td>\n",
       "      <td>Fahrenheit 11/9</td>\n",
       "      <td>5000000</td>\n",
       "      <td>6352306</td>\n",
       "      <td>6653715</td>\n",
       "      <td>301409</td>\n",
       "      <td>1653715</td>\n",
       "    </tr>\n",
       "    <tr>\n",
       "      <td>3623</td>\n",
       "      <td>tt8802728</td>\n",
       "      <td>The Witch</td>\n",
       "      <td>The Witch</td>\n",
       "      <td>2018</td>\n",
       "      <td>87.0</td>\n",
       "      <td>Horror</td>\n",
       "      <td>[9648, 27]</td>\n",
       "      <td>310131</td>\n",
       "      <td>en</td>\n",
       "      <td>13.493</td>\n",
       "      <td>...</td>\n",
       "      <td>The Witch</td>\n",
       "      <td>6.6</td>\n",
       "      <td>2931</td>\n",
       "      <td>2016-02-19</td>\n",
       "      <td>The Witch</td>\n",
       "      <td>3500000</td>\n",
       "      <td>25138705</td>\n",
       "      <td>40454520</td>\n",
       "      <td>15315815</td>\n",
       "      <td>36954520</td>\n",
       "    </tr>\n",
       "    <tr>\n",
       "      <td>3624</td>\n",
       "      <td>tt9448858</td>\n",
       "      <td>The Magic Flute</td>\n",
       "      <td>The Magic Flute</td>\n",
       "      <td>2010</td>\n",
       "      <td>87.0</td>\n",
       "      <td>Music</td>\n",
       "      <td>[10402, 35, 14]</td>\n",
       "      <td>313903</td>\n",
       "      <td>en</td>\n",
       "      <td>0.647</td>\n",
       "      <td>...</td>\n",
       "      <td>The Magic Flute</td>\n",
       "      <td>9.0</td>\n",
       "      <td>2</td>\n",
       "      <td>2006-12-31</td>\n",
       "      <td>The Magic Flute</td>\n",
       "      <td>27000000</td>\n",
       "      <td>46257465</td>\n",
       "      <td>97687996</td>\n",
       "      <td>51430531</td>\n",
       "      <td>70687996</td>\n",
       "    </tr>\n",
       "  </tbody>\n",
       "</table>\n",
       "<p>5 rows × 21 columns</p>\n",
       "</div>"
      ],
      "text/plain": [
       "         tconst     primary_title    original_title  start_year  \\\n",
       "3620  tt8043306  Teefa in Trouble  Teefa in Trouble        2018   \n",
       "3621  tt8083476             Chloe             Chloe        2017   \n",
       "3622  tt8632862   Fahrenheit 11/9   Fahrenheit 11/9        2018   \n",
       "3623  tt8802728         The Witch         The Witch        2018   \n",
       "3624  tt9448858   The Magic Flute   The Magic Flute        2010   \n",
       "\n",
       "      runtime_minutes               genres         genre_ids      id  \\\n",
       "3620            155.0  Action,Comedy,Crime  [18, 35, 28, 80]  506971   \n",
       "3621              6.0   Documentary,Family    [18, 53, 9648]   28211   \n",
       "3622            128.0          Documentary              [99]  532908   \n",
       "3623             87.0               Horror        [9648, 27]  310131   \n",
       "3624             87.0                Music   [10402, 35, 14]  313903   \n",
       "\n",
       "     original_language  popularity  ...             title vote_average  \\\n",
       "3620                ur       4.486  ...  Teefa in Trouble          7.6   \n",
       "3621                en       8.807  ...             Chloe          5.9   \n",
       "3622                en      10.003  ...   Fahrenheit 11/9          7.1   \n",
       "3623                en      13.493  ...         The Witch          6.6   \n",
       "3624                en       0.647  ...   The Magic Flute          9.0   \n",
       "\n",
       "      vote_count  release_date       movie_title production_budget  \\\n",
       "3620          11    2018-07-20  Teefa in Trouble           1500000   \n",
       "3621         940    2010-03-26             Chloe          13000000   \n",
       "3622         142    2018-09-21   Fahrenheit 11/9           5000000   \n",
       "3623        2931    2016-02-19         The Witch           3500000   \n",
       "3624           2    2006-12-31   The Magic Flute          27000000   \n",
       "\n",
       "      domestic_gross  worldwide_gross  foreign_gross    profit  \n",
       "3620        46257465            98806      -46158659  -1401194  \n",
       "3621         3075255         11831131        8755876  -1168869  \n",
       "3622         6352306          6653715         301409   1653715  \n",
       "3623        25138705         40454520       15315815  36954520  \n",
       "3624        46257465         97687996       51430531  70687996  \n",
       "\n",
       "[5 rows x 21 columns]"
      ]
     },
     "execution_count": 223,
     "metadata": {},
     "output_type": "execute_result"
    }
   ],
   "source": [
    "tb_tm_df.tail()"
   ]
  },
  {
   "cell_type": "code",
   "execution_count": 224,
   "metadata": {
    "ExecuteTime": {
     "end_time": "2020-06-21T09:55:00.129610Z",
     "start_time": "2020-06-21T09:54:59.981695Z"
    }
   },
   "outputs": [],
   "source": [
    "tb_tm_tr_df = pd.merge(tb_tm_df, tr_df, on='tconst')"
   ]
  },
  {
   "cell_type": "code",
   "execution_count": 225,
   "metadata": {
    "ExecuteTime": {
     "end_time": "2020-06-21T09:55:01.808649Z",
     "start_time": "2020-06-21T09:55:01.712702Z"
    }
   },
   "outputs": [
    {
     "data": {
      "text/html": [
       "<div>\n",
       "<style scoped>\n",
       "    .dataframe tbody tr th:only-of-type {\n",
       "        vertical-align: middle;\n",
       "    }\n",
       "\n",
       "    .dataframe tbody tr th {\n",
       "        vertical-align: top;\n",
       "    }\n",
       "\n",
       "    .dataframe thead th {\n",
       "        text-align: right;\n",
       "    }\n",
       "</style>\n",
       "<table border=\"1\" class=\"dataframe\">\n",
       "  <thead>\n",
       "    <tr style=\"text-align: right;\">\n",
       "      <th></th>\n",
       "      <th>tconst</th>\n",
       "      <th>primary_title</th>\n",
       "      <th>original_title</th>\n",
       "      <th>start_year</th>\n",
       "      <th>runtime_minutes</th>\n",
       "      <th>genres</th>\n",
       "      <th>genre_ids</th>\n",
       "      <th>id</th>\n",
       "      <th>original_language</th>\n",
       "      <th>popularity</th>\n",
       "      <th>...</th>\n",
       "      <th>vote_count</th>\n",
       "      <th>release_date</th>\n",
       "      <th>movie_title</th>\n",
       "      <th>production_budget</th>\n",
       "      <th>domestic_gross</th>\n",
       "      <th>worldwide_gross</th>\n",
       "      <th>foreign_gross</th>\n",
       "      <th>profit</th>\n",
       "      <th>averagerating</th>\n",
       "      <th>numvotes</th>\n",
       "    </tr>\n",
       "  </thead>\n",
       "  <tbody>\n",
       "    <tr>\n",
       "      <td>2736</td>\n",
       "      <td>tt7654872</td>\n",
       "      <td>Amoureux de ma femme</td>\n",
       "      <td>Amoureux de ma femme</td>\n",
       "      <td>2018</td>\n",
       "      <td>84.0</td>\n",
       "      <td>Comedy,Drama,Romance</td>\n",
       "      <td>[18, 35, 10749]</td>\n",
       "      <td>499722</td>\n",
       "      <td>fr</td>\n",
       "      <td>6.359</td>\n",
       "      <td>...</td>\n",
       "      <td>60</td>\n",
       "      <td>2014-04-25</td>\n",
       "      <td>The Other Woman</td>\n",
       "      <td>40000000</td>\n",
       "      <td>83911193</td>\n",
       "      <td>195111193</td>\n",
       "      <td>111200000</td>\n",
       "      <td>155111193</td>\n",
       "      <td>5.3</td>\n",
       "      <td>735</td>\n",
       "    </tr>\n",
       "    <tr>\n",
       "      <td>2737</td>\n",
       "      <td>tt7766254</td>\n",
       "      <td>Big</td>\n",
       "      <td>Big</td>\n",
       "      <td>2017</td>\n",
       "      <td>99.0</td>\n",
       "      <td>Documentary</td>\n",
       "      <td>[14, 18, 35, 10749, 10751]</td>\n",
       "      <td>2280</td>\n",
       "      <td>en</td>\n",
       "      <td>15.031</td>\n",
       "      <td>...</td>\n",
       "      <td>1813</td>\n",
       "      <td>1988-06-03</td>\n",
       "      <td>Big</td>\n",
       "      <td>18000000</td>\n",
       "      <td>114968774</td>\n",
       "      <td>151668774</td>\n",
       "      <td>36700000</td>\n",
       "      <td>133668774</td>\n",
       "      <td>8.5</td>\n",
       "      <td>6</td>\n",
       "    </tr>\n",
       "    <tr>\n",
       "      <td>2738</td>\n",
       "      <td>tt7784604</td>\n",
       "      <td>Hereditary</td>\n",
       "      <td>Hereditary</td>\n",
       "      <td>2018</td>\n",
       "      <td>127.0</td>\n",
       "      <td>Drama,Horror,Mystery</td>\n",
       "      <td>[27, 9648, 53]</td>\n",
       "      <td>493922</td>\n",
       "      <td>en</td>\n",
       "      <td>26.185</td>\n",
       "      <td>...</td>\n",
       "      <td>2491</td>\n",
       "      <td>2018-06-08</td>\n",
       "      <td>Hereditary</td>\n",
       "      <td>10000000</td>\n",
       "      <td>44069456</td>\n",
       "      <td>70133905</td>\n",
       "      <td>26064449</td>\n",
       "      <td>60133905</td>\n",
       "      <td>7.3</td>\n",
       "      <td>151571</td>\n",
       "    </tr>\n",
       "    <tr>\n",
       "      <td>2739</td>\n",
       "      <td>tt8043306</td>\n",
       "      <td>Teefa in Trouble</td>\n",
       "      <td>Teefa in Trouble</td>\n",
       "      <td>2018</td>\n",
       "      <td>155.0</td>\n",
       "      <td>Action,Comedy,Crime</td>\n",
       "      <td>[18, 35, 28, 80]</td>\n",
       "      <td>506971</td>\n",
       "      <td>ur</td>\n",
       "      <td>4.486</td>\n",
       "      <td>...</td>\n",
       "      <td>11</td>\n",
       "      <td>2018-07-20</td>\n",
       "      <td>Teefa in Trouble</td>\n",
       "      <td>1500000</td>\n",
       "      <td>46257465</td>\n",
       "      <td>98806</td>\n",
       "      <td>-46158659</td>\n",
       "      <td>-1401194</td>\n",
       "      <td>7.4</td>\n",
       "      <td>2724</td>\n",
       "    </tr>\n",
       "    <tr>\n",
       "      <td>2740</td>\n",
       "      <td>tt8632862</td>\n",
       "      <td>Fahrenheit 11/9</td>\n",
       "      <td>Fahrenheit 11/9</td>\n",
       "      <td>2018</td>\n",
       "      <td>128.0</td>\n",
       "      <td>Documentary</td>\n",
       "      <td>[99]</td>\n",
       "      <td>532908</td>\n",
       "      <td>en</td>\n",
       "      <td>10.003</td>\n",
       "      <td>...</td>\n",
       "      <td>142</td>\n",
       "      <td>2018-09-21</td>\n",
       "      <td>Fahrenheit 11/9</td>\n",
       "      <td>5000000</td>\n",
       "      <td>6352306</td>\n",
       "      <td>6653715</td>\n",
       "      <td>301409</td>\n",
       "      <td>1653715</td>\n",
       "      <td>6.7</td>\n",
       "      <td>11628</td>\n",
       "    </tr>\n",
       "  </tbody>\n",
       "</table>\n",
       "<p>5 rows × 23 columns</p>\n",
       "</div>"
      ],
      "text/plain": [
       "         tconst         primary_title        original_title  start_year  \\\n",
       "2736  tt7654872  Amoureux de ma femme  Amoureux de ma femme        2018   \n",
       "2737  tt7766254                   Big                   Big        2017   \n",
       "2738  tt7784604            Hereditary            Hereditary        2018   \n",
       "2739  tt8043306      Teefa in Trouble      Teefa in Trouble        2018   \n",
       "2740  tt8632862       Fahrenheit 11/9       Fahrenheit 11/9        2018   \n",
       "\n",
       "      runtime_minutes                genres                   genre_ids  \\\n",
       "2736             84.0  Comedy,Drama,Romance             [18, 35, 10749]   \n",
       "2737             99.0           Documentary  [14, 18, 35, 10749, 10751]   \n",
       "2738            127.0  Drama,Horror,Mystery              [27, 9648, 53]   \n",
       "2739            155.0   Action,Comedy,Crime            [18, 35, 28, 80]   \n",
       "2740            128.0           Documentary                        [99]   \n",
       "\n",
       "          id original_language  popularity  ... vote_count release_date  \\\n",
       "2736  499722                fr       6.359  ...         60   2014-04-25   \n",
       "2737    2280                en      15.031  ...       1813   1988-06-03   \n",
       "2738  493922                en      26.185  ...       2491   2018-06-08   \n",
       "2739  506971                ur       4.486  ...         11   2018-07-20   \n",
       "2740  532908                en      10.003  ...        142   2018-09-21   \n",
       "\n",
       "           movie_title  production_budget domestic_gross worldwide_gross  \\\n",
       "2736   The Other Woman           40000000       83911193       195111193   \n",
       "2737               Big           18000000      114968774       151668774   \n",
       "2738        Hereditary           10000000       44069456        70133905   \n",
       "2739  Teefa in Trouble            1500000       46257465           98806   \n",
       "2740   Fahrenheit 11/9            5000000        6352306         6653715   \n",
       "\n",
       "      foreign_gross     profit  averagerating  numvotes  \n",
       "2736      111200000  155111193            5.3       735  \n",
       "2737       36700000  133668774            8.5         6  \n",
       "2738       26064449   60133905            7.3    151571  \n",
       "2739      -46158659   -1401194            7.4      2724  \n",
       "2740         301409    1653715            6.7     11628  \n",
       "\n",
       "[5 rows x 23 columns]"
      ]
     },
     "execution_count": 225,
     "metadata": {},
     "output_type": "execute_result"
    }
   ],
   "source": [
    "tb_tm_tr_df.tail()"
   ]
  },
  {
   "cell_type": "code",
   "execution_count": 226,
   "metadata": {
    "ExecuteTime": {
     "end_time": "2020-06-21T09:55:21.985085Z",
     "start_time": "2020-06-21T09:55:21.962098Z"
    }
   },
   "outputs": [],
   "source": [
    "# adding a 'total_regions' column to look at how many regions each moview has been released in.\n",
    "tb_tm_tr_df.insert(2,'total_regions', 0)"
   ]
  },
  {
   "cell_type": "code",
   "execution_count": 227,
   "metadata": {
    "ExecuteTime": {
     "end_time": "2020-06-21T09:55:22.698675Z",
     "start_time": "2020-06-21T09:55:22.625717Z"
    }
   },
   "outputs": [
    {
     "data": {
      "text/html": [
       "<div>\n",
       "<style scoped>\n",
       "    .dataframe tbody tr th:only-of-type {\n",
       "        vertical-align: middle;\n",
       "    }\n",
       "\n",
       "    .dataframe tbody tr th {\n",
       "        vertical-align: top;\n",
       "    }\n",
       "\n",
       "    .dataframe thead th {\n",
       "        text-align: right;\n",
       "    }\n",
       "</style>\n",
       "<table border=\"1\" class=\"dataframe\">\n",
       "  <thead>\n",
       "    <tr style=\"text-align: right;\">\n",
       "      <th></th>\n",
       "      <th>tconst</th>\n",
       "      <th>primary_title</th>\n",
       "      <th>total_regions</th>\n",
       "      <th>original_title</th>\n",
       "      <th>start_year</th>\n",
       "      <th>runtime_minutes</th>\n",
       "      <th>genres</th>\n",
       "      <th>genre_ids</th>\n",
       "      <th>id</th>\n",
       "      <th>original_language</th>\n",
       "      <th>...</th>\n",
       "      <th>vote_count</th>\n",
       "      <th>release_date</th>\n",
       "      <th>movie_title</th>\n",
       "      <th>production_budget</th>\n",
       "      <th>domestic_gross</th>\n",
       "      <th>worldwide_gross</th>\n",
       "      <th>foreign_gross</th>\n",
       "      <th>profit</th>\n",
       "      <th>averagerating</th>\n",
       "      <th>numvotes</th>\n",
       "    </tr>\n",
       "  </thead>\n",
       "  <tbody>\n",
       "    <tr>\n",
       "      <td>0</td>\n",
       "      <td>tt0249516</td>\n",
       "      <td>Foodfight!</td>\n",
       "      <td>0</td>\n",
       "      <td>Foodfight!</td>\n",
       "      <td>2012</td>\n",
       "      <td>91.0</td>\n",
       "      <td>Action,Animation,Comedy</td>\n",
       "      <td>[16, 28, 35, 10751]</td>\n",
       "      <td>116977</td>\n",
       "      <td>en</td>\n",
       "      <td>...</td>\n",
       "      <td>46</td>\n",
       "      <td>2012-12-31</td>\n",
       "      <td>Foodfight!</td>\n",
       "      <td>45000000</td>\n",
       "      <td>46257465</td>\n",
       "      <td>73706</td>\n",
       "      <td>-46183759</td>\n",
       "      <td>-44926294</td>\n",
       "      <td>1.9</td>\n",
       "      <td>8248</td>\n",
       "    </tr>\n",
       "    <tr>\n",
       "      <td>1</td>\n",
       "      <td>tt0337692</td>\n",
       "      <td>On the Road</td>\n",
       "      <td>0</td>\n",
       "      <td>On the Road</td>\n",
       "      <td>2012</td>\n",
       "      <td>124.0</td>\n",
       "      <td>Adventure,Drama,Romance</td>\n",
       "      <td>[12, 18]</td>\n",
       "      <td>83770</td>\n",
       "      <td>en</td>\n",
       "      <td>...</td>\n",
       "      <td>518</td>\n",
       "      <td>2013-03-22</td>\n",
       "      <td>On the Road</td>\n",
       "      <td>25000000</td>\n",
       "      <td>720828</td>\n",
       "      <td>9313302</td>\n",
       "      <td>8592474</td>\n",
       "      <td>-15686698</td>\n",
       "      <td>6.1</td>\n",
       "      <td>37886</td>\n",
       "    </tr>\n",
       "    <tr>\n",
       "      <td>2</td>\n",
       "      <td>tt4339118</td>\n",
       "      <td>On the Road</td>\n",
       "      <td>0</td>\n",
       "      <td>On the Road</td>\n",
       "      <td>2014</td>\n",
       "      <td>89.0</td>\n",
       "      <td>Drama</td>\n",
       "      <td>[12, 18]</td>\n",
       "      <td>83770</td>\n",
       "      <td>en</td>\n",
       "      <td>...</td>\n",
       "      <td>518</td>\n",
       "      <td>2013-03-22</td>\n",
       "      <td>On the Road</td>\n",
       "      <td>25000000</td>\n",
       "      <td>720828</td>\n",
       "      <td>9313302</td>\n",
       "      <td>8592474</td>\n",
       "      <td>-15686698</td>\n",
       "      <td>6.0</td>\n",
       "      <td>6</td>\n",
       "    </tr>\n",
       "    <tr>\n",
       "      <td>3</td>\n",
       "      <td>tt5647250</td>\n",
       "      <td>On the Road</td>\n",
       "      <td>0</td>\n",
       "      <td>On the Road</td>\n",
       "      <td>2016</td>\n",
       "      <td>121.0</td>\n",
       "      <td>Drama</td>\n",
       "      <td>[12, 18]</td>\n",
       "      <td>83770</td>\n",
       "      <td>en</td>\n",
       "      <td>...</td>\n",
       "      <td>518</td>\n",
       "      <td>2013-03-22</td>\n",
       "      <td>On the Road</td>\n",
       "      <td>25000000</td>\n",
       "      <td>720828</td>\n",
       "      <td>9313302</td>\n",
       "      <td>8592474</td>\n",
       "      <td>-15686698</td>\n",
       "      <td>5.7</td>\n",
       "      <td>127</td>\n",
       "    </tr>\n",
       "    <tr>\n",
       "      <td>4</td>\n",
       "      <td>tt0359950</td>\n",
       "      <td>The Secret Life of Walter Mitty</td>\n",
       "      <td>0</td>\n",
       "      <td>The Secret Life of Walter Mitty</td>\n",
       "      <td>2013</td>\n",
       "      <td>114.0</td>\n",
       "      <td>Adventure,Comedy,Drama</td>\n",
       "      <td>[12, 35, 18, 14]</td>\n",
       "      <td>116745</td>\n",
       "      <td>en</td>\n",
       "      <td>...</td>\n",
       "      <td>4859</td>\n",
       "      <td>2013-12-25</td>\n",
       "      <td>The Secret Life of Walter Mitty</td>\n",
       "      <td>91000000</td>\n",
       "      <td>58236838</td>\n",
       "      <td>187861183</td>\n",
       "      <td>129624345</td>\n",
       "      <td>96861183</td>\n",
       "      <td>7.3</td>\n",
       "      <td>275300</td>\n",
       "    </tr>\n",
       "    <tr>\n",
       "      <td>5</td>\n",
       "      <td>tt0365907</td>\n",
       "      <td>A Walk Among the Tombstones</td>\n",
       "      <td>0</td>\n",
       "      <td>A Walk Among the Tombstones</td>\n",
       "      <td>2014</td>\n",
       "      <td>114.0</td>\n",
       "      <td>Action,Crime,Drama</td>\n",
       "      <td>[80, 18, 9648, 53]</td>\n",
       "      <td>169917</td>\n",
       "      <td>en</td>\n",
       "      <td>...</td>\n",
       "      <td>1685</td>\n",
       "      <td>2014-09-19</td>\n",
       "      <td>A Walk Among the Tombstones</td>\n",
       "      <td>28000000</td>\n",
       "      <td>26017685</td>\n",
       "      <td>62108587</td>\n",
       "      <td>36090902</td>\n",
       "      <td>34108587</td>\n",
       "      <td>6.5</td>\n",
       "      <td>105116</td>\n",
       "    </tr>\n",
       "    <tr>\n",
       "      <td>6</td>\n",
       "      <td>tt0369610</td>\n",
       "      <td>Jurassic World</td>\n",
       "      <td>0</td>\n",
       "      <td>Jurassic World</td>\n",
       "      <td>2015</td>\n",
       "      <td>124.0</td>\n",
       "      <td>Action,Adventure,Sci-Fi</td>\n",
       "      <td>[28, 12, 878, 53]</td>\n",
       "      <td>135397</td>\n",
       "      <td>en</td>\n",
       "      <td>...</td>\n",
       "      <td>14056</td>\n",
       "      <td>2015-06-12</td>\n",
       "      <td>Jurassic World</td>\n",
       "      <td>215000000</td>\n",
       "      <td>652270625</td>\n",
       "      <td>1648854864</td>\n",
       "      <td>996584239</td>\n",
       "      <td>1433854864</td>\n",
       "      <td>7.0</td>\n",
       "      <td>539338</td>\n",
       "    </tr>\n",
       "    <tr>\n",
       "      <td>7</td>\n",
       "      <td>tt0376136</td>\n",
       "      <td>The Rum Diary</td>\n",
       "      <td>0</td>\n",
       "      <td>The Rum Diary</td>\n",
       "      <td>2011</td>\n",
       "      <td>119.0</td>\n",
       "      <td>Comedy,Drama</td>\n",
       "      <td>[18, 35]</td>\n",
       "      <td>23514</td>\n",
       "      <td>en</td>\n",
       "      <td>...</td>\n",
       "      <td>652</td>\n",
       "      <td>2011-10-28</td>\n",
       "      <td>The Rum Diary</td>\n",
       "      <td>45000000</td>\n",
       "      <td>13109815</td>\n",
       "      <td>21544732</td>\n",
       "      <td>8434917</td>\n",
       "      <td>-23455268</td>\n",
       "      <td>6.2</td>\n",
       "      <td>94787</td>\n",
       "    </tr>\n",
       "    <tr>\n",
       "      <td>8</td>\n",
       "      <td>tt0383010</td>\n",
       "      <td>The Three Stooges</td>\n",
       "      <td>0</td>\n",
       "      <td>The Three Stooges</td>\n",
       "      <td>2012</td>\n",
       "      <td>92.0</td>\n",
       "      <td>Comedy,Family</td>\n",
       "      <td>[35]</td>\n",
       "      <td>76489</td>\n",
       "      <td>en</td>\n",
       "      <td>...</td>\n",
       "      <td>215</td>\n",
       "      <td>2012-04-13</td>\n",
       "      <td>The Three Stooges</td>\n",
       "      <td>30000000</td>\n",
       "      <td>44338224</td>\n",
       "      <td>54052249</td>\n",
       "      <td>9714025</td>\n",
       "      <td>24052249</td>\n",
       "      <td>5.1</td>\n",
       "      <td>28570</td>\n",
       "    </tr>\n",
       "    <tr>\n",
       "      <td>9</td>\n",
       "      <td>tt0393049</td>\n",
       "      <td>Anderson's Cross</td>\n",
       "      <td>0</td>\n",
       "      <td>Anderson's Cross</td>\n",
       "      <td>2010</td>\n",
       "      <td>98.0</td>\n",
       "      <td>Comedy,Drama,Romance</td>\n",
       "      <td>[10749, 35, 18]</td>\n",
       "      <td>324352</td>\n",
       "      <td>en</td>\n",
       "      <td>...</td>\n",
       "      <td>1</td>\n",
       "      <td>2010-12-31</td>\n",
       "      <td>Anderson's Cross</td>\n",
       "      <td>300000</td>\n",
       "      <td>46257465</td>\n",
       "      <td>97687996</td>\n",
       "      <td>51430531</td>\n",
       "      <td>97387996</td>\n",
       "      <td>5.5</td>\n",
       "      <td>106</td>\n",
       "    </tr>\n",
       "  </tbody>\n",
       "</table>\n",
       "<p>10 rows × 24 columns</p>\n",
       "</div>"
      ],
      "text/plain": [
       "      tconst                    primary_title  total_regions  \\\n",
       "0  tt0249516                       Foodfight!              0   \n",
       "1  tt0337692                      On the Road              0   \n",
       "2  tt4339118                      On the Road              0   \n",
       "3  tt5647250                      On the Road              0   \n",
       "4  tt0359950  The Secret Life of Walter Mitty              0   \n",
       "5  tt0365907      A Walk Among the Tombstones              0   \n",
       "6  tt0369610                   Jurassic World              0   \n",
       "7  tt0376136                    The Rum Diary              0   \n",
       "8  tt0383010                The Three Stooges              0   \n",
       "9  tt0393049                 Anderson's Cross              0   \n",
       "\n",
       "                    original_title  start_year  runtime_minutes  \\\n",
       "0                       Foodfight!        2012             91.0   \n",
       "1                      On the Road        2012            124.0   \n",
       "2                      On the Road        2014             89.0   \n",
       "3                      On the Road        2016            121.0   \n",
       "4  The Secret Life of Walter Mitty        2013            114.0   \n",
       "5      A Walk Among the Tombstones        2014            114.0   \n",
       "6                   Jurassic World        2015            124.0   \n",
       "7                    The Rum Diary        2011            119.0   \n",
       "8                The Three Stooges        2012             92.0   \n",
       "9                 Anderson's Cross        2010             98.0   \n",
       "\n",
       "                    genres            genre_ids      id original_language  \\\n",
       "0  Action,Animation,Comedy  [16, 28, 35, 10751]  116977                en   \n",
       "1  Adventure,Drama,Romance             [12, 18]   83770                en   \n",
       "2                    Drama             [12, 18]   83770                en   \n",
       "3                    Drama             [12, 18]   83770                en   \n",
       "4   Adventure,Comedy,Drama     [12, 35, 18, 14]  116745                en   \n",
       "5       Action,Crime,Drama   [80, 18, 9648, 53]  169917                en   \n",
       "6  Action,Adventure,Sci-Fi    [28, 12, 878, 53]  135397                en   \n",
       "7             Comedy,Drama             [18, 35]   23514                en   \n",
       "8            Comedy,Family                 [35]   76489                en   \n",
       "9     Comedy,Drama,Romance      [10749, 35, 18]  324352                en   \n",
       "\n",
       "   ...  vote_count release_date                      movie_title  \\\n",
       "0  ...          46   2012-12-31                       Foodfight!   \n",
       "1  ...         518   2013-03-22                      On the Road   \n",
       "2  ...         518   2013-03-22                      On the Road   \n",
       "3  ...         518   2013-03-22                      On the Road   \n",
       "4  ...        4859   2013-12-25  The Secret Life of Walter Mitty   \n",
       "5  ...        1685   2014-09-19      A Walk Among the Tombstones   \n",
       "6  ...       14056   2015-06-12                   Jurassic World   \n",
       "7  ...         652   2011-10-28                    The Rum Diary   \n",
       "8  ...         215   2012-04-13                The Three Stooges   \n",
       "9  ...           1   2010-12-31                 Anderson's Cross   \n",
       "\n",
       "   production_budget  domestic_gross worldwide_gross foreign_gross  \\\n",
       "0           45000000        46257465           73706     -46183759   \n",
       "1           25000000          720828         9313302       8592474   \n",
       "2           25000000          720828         9313302       8592474   \n",
       "3           25000000          720828         9313302       8592474   \n",
       "4           91000000        58236838       187861183     129624345   \n",
       "5           28000000        26017685        62108587      36090902   \n",
       "6          215000000       652270625      1648854864     996584239   \n",
       "7           45000000        13109815        21544732       8434917   \n",
       "8           30000000        44338224        54052249       9714025   \n",
       "9             300000        46257465        97687996      51430531   \n",
       "\n",
       "       profit  averagerating  numvotes  \n",
       "0   -44926294            1.9      8248  \n",
       "1   -15686698            6.1     37886  \n",
       "2   -15686698            6.0         6  \n",
       "3   -15686698            5.7       127  \n",
       "4    96861183            7.3    275300  \n",
       "5    34108587            6.5    105116  \n",
       "6  1433854864            7.0    539338  \n",
       "7   -23455268            6.2     94787  \n",
       "8    24052249            5.1     28570  \n",
       "9    97387996            5.5       106  \n",
       "\n",
       "[10 rows x 24 columns]"
      ]
     },
     "execution_count": 227,
     "metadata": {},
     "output_type": "execute_result"
    }
   ],
   "source": [
    "tb_tm_tr_df.head(10)"
   ]
  },
  {
   "cell_type": "code",
   "execution_count": 228,
   "metadata": {
    "ExecuteTime": {
     "end_time": "2020-06-21T10:02:03.772807Z",
     "start_time": "2020-06-21T09:57:01.289172Z"
    }
   },
   "outputs": [],
   "source": [
    "# this loop calculates the total regions a title has been released in and adds to the 'total_regions' column\n",
    "\n",
    "for row, title in enumerate(tb_tm_tr_df['tconst']):\n",
    "    try:\n",
    "        tb_tm_tr_df.loc[row,'total_regions'] =  len(t_akas_df.loc[t_akas_df['title_id']==str(title)])\n",
    "    except:\n",
    "        continue\n"
   ]
  },
  {
   "cell_type": "code",
   "execution_count": 249,
   "metadata": {
    "ExecuteTime": {
     "end_time": "2020-06-21T10:21:28.411998Z",
     "start_time": "2020-06-21T10:21:28.328046Z"
    }
   },
   "outputs": [
    {
     "data": {
      "text/html": [
       "<div>\n",
       "<style scoped>\n",
       "    .dataframe tbody tr th:only-of-type {\n",
       "        vertical-align: middle;\n",
       "    }\n",
       "\n",
       "    .dataframe tbody tr th {\n",
       "        vertical-align: top;\n",
       "    }\n",
       "\n",
       "    .dataframe thead th {\n",
       "        text-align: right;\n",
       "    }\n",
       "</style>\n",
       "<table border=\"1\" class=\"dataframe\">\n",
       "  <thead>\n",
       "    <tr style=\"text-align: right;\">\n",
       "      <th></th>\n",
       "      <th>tconst</th>\n",
       "      <th>primary_title</th>\n",
       "      <th>total_regions</th>\n",
       "      <th>original_title</th>\n",
       "      <th>start_year</th>\n",
       "      <th>runtime_minutes</th>\n",
       "      <th>genres</th>\n",
       "      <th>genre_ids</th>\n",
       "      <th>id</th>\n",
       "      <th>original_language</th>\n",
       "      <th>...</th>\n",
       "      <th>vote_count</th>\n",
       "      <th>release_date</th>\n",
       "      <th>movie_title</th>\n",
       "      <th>production_budget</th>\n",
       "      <th>domestic_gross</th>\n",
       "      <th>worldwide_gross</th>\n",
       "      <th>foreign_gross</th>\n",
       "      <th>profit</th>\n",
       "      <th>averagerating</th>\n",
       "      <th>numvotes</th>\n",
       "    </tr>\n",
       "  </thead>\n",
       "  <tbody>\n",
       "    <tr>\n",
       "      <td>0</td>\n",
       "      <td>tt0249516</td>\n",
       "      <td>Foodfight!</td>\n",
       "      <td>11</td>\n",
       "      <td>Foodfight!</td>\n",
       "      <td>2012</td>\n",
       "      <td>91.0</td>\n",
       "      <td>Action,Animation,Comedy</td>\n",
       "      <td>[16, 28, 35, 10751]</td>\n",
       "      <td>116977</td>\n",
       "      <td>en</td>\n",
       "      <td>...</td>\n",
       "      <td>46</td>\n",
       "      <td>2012-12-31</td>\n",
       "      <td>Foodfight!</td>\n",
       "      <td>45000000</td>\n",
       "      <td>46257465</td>\n",
       "      <td>73706</td>\n",
       "      <td>-46183759</td>\n",
       "      <td>-44926294</td>\n",
       "      <td>1.9</td>\n",
       "      <td>8248</td>\n",
       "    </tr>\n",
       "    <tr>\n",
       "      <td>1</td>\n",
       "      <td>tt0337692</td>\n",
       "      <td>On the Road</td>\n",
       "      <td>28</td>\n",
       "      <td>On the Road</td>\n",
       "      <td>2012</td>\n",
       "      <td>124.0</td>\n",
       "      <td>Adventure,Drama,Romance</td>\n",
       "      <td>[12, 18]</td>\n",
       "      <td>83770</td>\n",
       "      <td>en</td>\n",
       "      <td>...</td>\n",
       "      <td>518</td>\n",
       "      <td>2013-03-22</td>\n",
       "      <td>On the Road</td>\n",
       "      <td>25000000</td>\n",
       "      <td>720828</td>\n",
       "      <td>9313302</td>\n",
       "      <td>8592474</td>\n",
       "      <td>-15686698</td>\n",
       "      <td>6.1</td>\n",
       "      <td>37886</td>\n",
       "    </tr>\n",
       "    <tr>\n",
       "      <td>2</td>\n",
       "      <td>tt4339118</td>\n",
       "      <td>On the Road</td>\n",
       "      <td>2</td>\n",
       "      <td>On the Road</td>\n",
       "      <td>2014</td>\n",
       "      <td>89.0</td>\n",
       "      <td>Drama</td>\n",
       "      <td>[12, 18]</td>\n",
       "      <td>83770</td>\n",
       "      <td>en</td>\n",
       "      <td>...</td>\n",
       "      <td>518</td>\n",
       "      <td>2013-03-22</td>\n",
       "      <td>On the Road</td>\n",
       "      <td>25000000</td>\n",
       "      <td>720828</td>\n",
       "      <td>9313302</td>\n",
       "      <td>8592474</td>\n",
       "      <td>-15686698</td>\n",
       "      <td>6.0</td>\n",
       "      <td>6</td>\n",
       "    </tr>\n",
       "    <tr>\n",
       "      <td>3</td>\n",
       "      <td>tt5647250</td>\n",
       "      <td>On the Road</td>\n",
       "      <td>3</td>\n",
       "      <td>On the Road</td>\n",
       "      <td>2016</td>\n",
       "      <td>121.0</td>\n",
       "      <td>Drama</td>\n",
       "      <td>[12, 18]</td>\n",
       "      <td>83770</td>\n",
       "      <td>en</td>\n",
       "      <td>...</td>\n",
       "      <td>518</td>\n",
       "      <td>2013-03-22</td>\n",
       "      <td>On the Road</td>\n",
       "      <td>25000000</td>\n",
       "      <td>720828</td>\n",
       "      <td>9313302</td>\n",
       "      <td>8592474</td>\n",
       "      <td>-15686698</td>\n",
       "      <td>5.7</td>\n",
       "      <td>127</td>\n",
       "    </tr>\n",
       "    <tr>\n",
       "      <td>4</td>\n",
       "      <td>tt0359950</td>\n",
       "      <td>The Secret Life of Walter Mitty</td>\n",
       "      <td>33</td>\n",
       "      <td>The Secret Life of Walter Mitty</td>\n",
       "      <td>2013</td>\n",
       "      <td>114.0</td>\n",
       "      <td>Adventure,Comedy,Drama</td>\n",
       "      <td>[12, 35, 18, 14]</td>\n",
       "      <td>116745</td>\n",
       "      <td>en</td>\n",
       "      <td>...</td>\n",
       "      <td>4859</td>\n",
       "      <td>2013-12-25</td>\n",
       "      <td>The Secret Life of Walter Mitty</td>\n",
       "      <td>91000000</td>\n",
       "      <td>58236838</td>\n",
       "      <td>187861183</td>\n",
       "      <td>129624345</td>\n",
       "      <td>96861183</td>\n",
       "      <td>7.3</td>\n",
       "      <td>275300</td>\n",
       "    </tr>\n",
       "  </tbody>\n",
       "</table>\n",
       "<p>5 rows × 24 columns</p>\n",
       "</div>"
      ],
      "text/plain": [
       "      tconst                    primary_title  total_regions  \\\n",
       "0  tt0249516                       Foodfight!             11   \n",
       "1  tt0337692                      On the Road             28   \n",
       "2  tt4339118                      On the Road              2   \n",
       "3  tt5647250                      On the Road              3   \n",
       "4  tt0359950  The Secret Life of Walter Mitty             33   \n",
       "\n",
       "                    original_title  start_year  runtime_minutes  \\\n",
       "0                       Foodfight!        2012             91.0   \n",
       "1                      On the Road        2012            124.0   \n",
       "2                      On the Road        2014             89.0   \n",
       "3                      On the Road        2016            121.0   \n",
       "4  The Secret Life of Walter Mitty        2013            114.0   \n",
       "\n",
       "                    genres            genre_ids      id original_language  \\\n",
       "0  Action,Animation,Comedy  [16, 28, 35, 10751]  116977                en   \n",
       "1  Adventure,Drama,Romance             [12, 18]   83770                en   \n",
       "2                    Drama             [12, 18]   83770                en   \n",
       "3                    Drama             [12, 18]   83770                en   \n",
       "4   Adventure,Comedy,Drama     [12, 35, 18, 14]  116745                en   \n",
       "\n",
       "   ...  vote_count release_date                      movie_title  \\\n",
       "0  ...          46   2012-12-31                       Foodfight!   \n",
       "1  ...         518   2013-03-22                      On the Road   \n",
       "2  ...         518   2013-03-22                      On the Road   \n",
       "3  ...         518   2013-03-22                      On the Road   \n",
       "4  ...        4859   2013-12-25  The Secret Life of Walter Mitty   \n",
       "\n",
       "   production_budget  domestic_gross worldwide_gross foreign_gross    profit  \\\n",
       "0           45000000        46257465           73706     -46183759 -44926294   \n",
       "1           25000000          720828         9313302       8592474 -15686698   \n",
       "2           25000000          720828         9313302       8592474 -15686698   \n",
       "3           25000000          720828         9313302       8592474 -15686698   \n",
       "4           91000000        58236838       187861183     129624345  96861183   \n",
       "\n",
       "   averagerating  numvotes  \n",
       "0            1.9      8248  \n",
       "1            6.1     37886  \n",
       "2            6.0         6  \n",
       "3            5.7       127  \n",
       "4            7.3    275300  \n",
       "\n",
       "[5 rows x 24 columns]"
      ]
     },
     "execution_count": 249,
     "metadata": {},
     "output_type": "execute_result"
    }
   ],
   "source": [
    "tb_tm_tr_df.head()"
   ]
  },
  {
   "cell_type": "code",
   "execution_count": 291,
   "metadata": {
    "ExecuteTime": {
     "end_time": "2020-06-21T11:56:32.059015Z",
     "start_time": "2020-06-21T11:56:32.046023Z"
    }
   },
   "outputs": [],
   "source": [
    "regions_profit_df = tb_tm_tr_df[['total_regions', 'profit']]"
   ]
  },
  {
   "cell_type": "code",
   "execution_count": 292,
   "metadata": {
    "ExecuteTime": {
     "end_time": "2020-06-21T11:56:35.914807Z",
     "start_time": "2020-06-21T11:56:34.895391Z"
    }
   },
   "outputs": [
    {
     "data": {
      "text/plain": [
       "<matplotlib.axes._subplots.AxesSubplot at 0x1feeb631710>"
      ]
     },
     "execution_count": 292,
     "metadata": {},
     "output_type": "execute_result"
    },
    {
     "data": {
      "image/png": "[encoded data removed]",
      "text/plain": [
       "<Figure size 432x288 with 1 Axes>"
      ]
     },
     "metadata": {},
     "output_type": "display_data"
    }
   ],
   "source": [
    "regions_profit_df['total_regions'].plot(x='Num of regions', y= 'frequency', kind='hist', bins=30)\n",
    "#distribution of regions"
   ]
  },
  {
   "cell_type": "code",
   "execution_count": 293,
   "metadata": {
    "ExecuteTime": {
     "end_time": "2020-06-21T11:56:55.957319Z",
     "start_time": "2020-06-21T11:56:55.948325Z"
    }
   },
   "outputs": [],
   "source": [
    "import seaborn as sns"
   ]
  },
  {
   "cell_type": "code",
   "execution_count": 294,
   "metadata": {
    "ExecuteTime": {
     "end_time": "2020-06-21T11:56:59.744149Z",
     "start_time": "2020-06-21T11:56:59.721162Z"
    }
   },
   "outputs": [
    {
     "data": {
      "text/plain": [
       "count    2741.000000\n",
       "mean       16.874863\n",
       "std        13.596748\n",
       "min         0.000000\n",
       "25%         3.000000\n",
       "50%        16.000000\n",
       "75%        29.000000\n",
       "max        55.000000\n",
       "Name: total_regions, dtype: float64"
      ]
     },
     "execution_count": 294,
     "metadata": {},
     "output_type": "execute_result"
    }
   ],
   "source": [
    "tb_tm_tr_df['total_regions'].describe()"
   ]
  },
  {
   "cell_type": "code",
   "execution_count": 322,
   "metadata": {
    "ExecuteTime": {
     "end_time": "2020-06-21T12:22:59.753219Z",
     "start_time": "2020-06-21T12:22:59.748220Z"
    }
   },
   "outputs": [],
   "source": [
    "# distribution of the regions\n",
    "#regions_plot = sns.distplot(regions_profit_df['total_regions'], bins=30)"
   ]
  },
  {
   "cell_type": "code",
   "execution_count": 296,
   "metadata": {
    "ExecuteTime": {
     "end_time": "2020-06-21T11:58:26.510421Z",
     "start_time": "2020-06-21T11:58:26.491433Z"
    }
   },
   "outputs": [],
   "source": [
    "regions_df = regions_profit_df['total_regions']\n",
    "regions_iqr = regions_profit_df['total_regions'][regions_profit_df['total_regions'].between(regions_profit_df['total_regions'].quantile(.25), regions_profit_df['total_regions'].quantile(.75), inclusive=True)]"
   ]
  },
  {
   "cell_type": "code",
   "execution_count": 297,
   "metadata": {
    "ExecuteTime": {
     "end_time": "2020-06-21T11:58:36.488702Z",
     "start_time": "2020-06-21T11:58:35.511265Z"
    }
   },
   "outputs": [
    {
     "data": {
      "image/png": "[encoded data removed]",
      "text/plain": [
       "<Figure size 432x288 with 1 Axes>"
      ]
     },
     "metadata": {},
     "output_type": "display_data"
    }
   ],
   "source": [
    "regions_iqr_plot = sns.distplot(regions_iqr, bins=20)"
   ]
  },
  {
   "cell_type": "code",
   "execution_count": 323,
   "metadata": {
    "ExecuteTime": {
     "end_time": "2020-06-21T12:23:41.625220Z",
     "start_time": "2020-06-21T12:23:41.604232Z"
    }
   },
   "outputs": [
    {
     "data": {
      "text/plain": [
       "count    2.741000e+03\n",
       "mean     8.407152e+07\n",
       "std      1.638305e+08\n",
       "min     -1.104502e+08\n",
       "25%     -4.780380e+05\n",
       "50%      3.162382e+07\n",
       "75%      9.568800e+07\n",
       "max      1.748134e+09\n",
       "Name: profit, dtype: float64"
      ]
     },
     "execution_count": 323,
     "metadata": {},
     "output_type": "execute_result"
    }
   ],
   "source": [
    "regions_profit_df['profit'].describe()"
   ]
  },
  {
   "cell_type": "code",
   "execution_count": 326,
   "metadata": {
    "ExecuteTime": {
     "end_time": "2020-06-21T12:24:35.039606Z",
     "start_time": "2020-06-21T12:24:34.393977Z"
    }
   },
   "outputs": [
    {
     "data": {
      "image/png": "[encoded data removed]",
      "text/plain": [
       "<Figure size 432x288 with 1 Axes>"
      ]
     },
     "metadata": {},
     "output_type": "display_data"
    }
   ],
   "source": [
    "# distribution of the profit\n",
    "# most movies are on the low end of the profits.\n",
    "profit_plot1 = sns.distplot(regions_profit_df['profit'], bins=30)"
   ]
  },
  {
   "cell_type": "code",
   "execution_count": 327,
   "metadata": {
    "ExecuteTime": {
     "end_time": "2020-06-21T12:24:35.319446Z",
     "start_time": "2020-06-21T12:24:35.301457Z"
    }
   },
   "outputs": [],
   "source": [
    "profit_iqr = regions_profit_df['profit'][regions_profit_df['profit'].between(regions_profit_df['profit'].quantile(.25), regions_profit_df['profit'].quantile(.75), inclusive=True)]"
   ]
  },
  {
   "cell_type": "code",
   "execution_count": 328,
   "metadata": {
    "ExecuteTime": {
     "end_time": "2020-06-21T12:24:37.877980Z",
     "start_time": "2020-06-21T12:24:37.443229Z"
    },
    "scrolled": true
   },
   "outputs": [
    {
     "data": {
      "image/png": "[encoded data removed]",
      "text/plain": [
       "<Figure size 432x288 with 1 Axes>"
      ]
     },
     "metadata": {},
     "output_type": "display_data"
    }
   ],
   "source": [
    "profit_iqr_plot = sns.distplot(profit_iqr, bins=20)"
   ]
  },
  {
   "cell_type": "code",
   "execution_count": 329,
   "metadata": {
    "ExecuteTime": {
     "end_time": "2020-06-21T12:25:17.590220Z",
     "start_time": "2020-06-21T12:25:17.569232Z"
    },
    "scrolled": true
   },
   "outputs": [
    {
     "data": {
      "text/plain": [
       "1     0.174024\n",
       "3     0.070047\n",
       "4     0.032470\n",
       "29    0.031011\n",
       "25    0.027362\n",
       "35    0.026997\n",
       "30    0.026633\n",
       "28    0.025903\n",
       "7     0.025903\n",
       "27    0.025903\n",
       "32    0.025173\n",
       "5     0.025173\n",
       "31    0.024079\n",
       "22    0.020795\n",
       "33    0.020795\n",
       "6     0.020795\n",
       "12    0.020430\n",
       "26    0.018971\n",
       "24    0.018606\n",
       "16    0.018606\n",
       "0     0.018242\n",
       "34    0.017877\n",
       "36    0.017147\n",
       "21    0.016417\n",
       "18    0.016417\n",
       "8     0.014958\n",
       "11    0.014958\n",
       "2     0.014593\n",
       "15    0.014593\n",
       "19    0.014228\n",
       "23    0.013864\n",
       "10    0.013499\n",
       "13    0.013134\n",
       "20    0.012769\n",
       "38    0.012404\n",
       "9     0.012404\n",
       "37    0.012404\n",
       "14    0.012039\n",
       "17    0.010215\n",
       "39    0.010215\n",
       "41    0.008756\n",
       "40    0.005837\n",
       "42    0.003648\n",
       "45    0.003283\n",
       "44    0.003283\n",
       "43    0.002189\n",
       "48    0.002189\n",
       "46    0.002189\n",
       "49    0.001824\n",
       "51    0.001459\n",
       "47    0.001094\n",
       "52    0.000730\n",
       "53    0.000730\n",
       "50    0.000365\n",
       "55    0.000365\n",
       "Name: total_regions, dtype: float64"
      ]
     },
     "execution_count": 329,
     "metadata": {},
     "output_type": "execute_result"
    }
   ],
   "source": [
    "#selecting regions and worldwide gross information from combined df and assigning it to regions_profit_df\n",
    "\n",
    "regions_profit_df = tb_tm_tr_df.iloc[:, [2,21]]\n",
    "regions_profit_df.set_index('total_regions')\n",
    "\n",
    "#checking how the values are distribured\n",
    "regions_profit_df['total_regions'].value_counts(normalize=True)\n",
    "\n",
    "#  17% of movies released in just one region"
   ]
  },
  {
   "cell_type": "code",
   "execution_count": 334,
   "metadata": {
    "ExecuteTime": {
     "end_time": "2020-06-21T12:26:47.634615Z",
     "start_time": "2020-06-21T12:26:47.604630Z"
    }
   },
   "outputs": [
    {
     "name": "stdout",
     "output_type": "stream",
     "text": [
      "count    2.741000e+03\n",
      "mean     8.407152e+07\n",
      "std      1.638305e+08\n",
      "min     -1.104502e+08\n",
      "25%     -4.780380e+05\n",
      "50%      3.162382e+07\n",
      "75%      9.568800e+07\n",
      "max      1.748134e+09\n",
      "Name: profit, dtype: float64 \n",
      "\n",
      "\n",
      "count    2741.000000\n",
      "mean       16.874863\n",
      "std        13.596748\n",
      "min         0.000000\n",
      "25%         3.000000\n",
      "50%        16.000000\n",
      "75%        29.000000\n",
      "max        55.000000\n",
      "Name: total_regions, dtype: float64\n"
     ]
    }
   ],
   "source": [
    "#Looking at what the stats are regions and profit\n",
    "print(regions_profit_df['profit'].describe(), '\\n\\n')\n",
    "print(regions_profit_df['total_regions'].describe())"
   ]
  },
  {
   "cell_type": "code",
   "execution_count": 335,
   "metadata": {
    "ExecuteTime": {
     "end_time": "2020-06-21T12:27:28.165384Z",
     "start_time": "2020-06-21T12:27:21.381272Z"
    }
   },
   "outputs": [
    {
     "data": {
      "image/png": "[encoded data removed]",
      "text/plain": [
       "<Figure size 1440x720 with 1 Axes>"
      ]
     },
     "metadata": {},
     "output_type": "display_data"
    }
   ],
   "source": [
    "#Plotting boxplot of profit vs regions to see what the relationship is.\n",
    "fig = plt.figure(figsize=(20,10))\n",
    "fig.add_subplot(1,1,1)\n",
    "plt.rcParams[\"axes.labelsize\"] = 18\n",
    "\n",
    "chart1 = sns.boxplot(x= 'total_regions', y = 'profit', palette='BuGn_r', data=regions_profit_df).set(xlabel='Total Regions', ylabel='profit', title='Profit Vs Total Regions')\n"
   ]
  },
  {
   "cell_type": "markdown",
   "metadata": {},
   "source": [
    "When total number of regions is higher the potential to make a large profit is high but at the same time the risk of loss is also high. This is seen on the chart by the seeing the wide range in profit for the higher total regions."
   ]
  },
  {
   "cell_type": "code",
   "execution_count": null,
   "metadata": {},
   "outputs": [],
   "source": []
  }
 ],
 "metadata": {
  "kernelspec": {
   "display_name": "Python [conda env:learn-env] *",
   "language": "python",
   "name": "conda-env-learn-env-py"
  },
  "language_info": {
   "codemirror_mode": {
    "name": "ipython",
    "version": 3
   },
   "file_extension": ".py",
   "mimetype": "text/x-python",
   "name": "python",
   "nbconvert_exporter": "python",
   "pygments_lexer": "ipython3",
   "version": "3.6.9"
  }
 },
 "nbformat": 4,
 "nbformat_minor": 2
}
